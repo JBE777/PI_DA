{
 "cells": [
  {
   "cell_type": "markdown",
   "id": "f5efc63b",
   "metadata": {},
   "source": [
    "<h1 align='center'>Proyecto Individual 2</h1>\n",
    "<h3 align='center'><i>Telecomunicaciones</i></h3>\n",
    "<h4 align='center'>Cohorte:DataPT04</h4>"
   ]
  },
  {
   "cell_type": "markdown",
   "id": "2ac3c5c1",
   "metadata": {},
   "source": [
    "# `ETL`: **`Extracción, transformación y carga de datos`**\n",
    "- *Buscamos en el sitio ENACOM - Ente Nacional de Comunicaciones de Argentina.*\n",
    "- *Encontrando algunos archivos interesantes de internet y telefonía fija.*\n",
    "### Primero, verificamos los siguientes archivos *`(No utilizados en el proyecto por lo encontrado)`:*\n",
    "- **`Acceso a Internet Fijo por velocidad de bajada y provincia:`** *Encontrando:* `Demasiadas columnas y pocos datos`\n",
    "- **`Acceso a Internet Fijo por velocidad de bajada y localidad:`** *Encontrando:* `Velocidades con puros valores nulos`\n",
    "- **`Velocidad media de bajada de Internet fijo por provincia:`** *Encontrando:* `Pocos valores en el dataset`\n",
    "- **`Acceso a Internet por tecnología:`** *Encontrando:* `Pocos valores en el dataset`\n",
    "- **`Acceso a Internet por velocidad:`** *Encontrando:* `Pocos valores en el dataset`\n",
    "- **`Ingresos en internet:`** *Encontrando:* `Pocos valores en el dataset`\n",
    "- **`Telefonia móvil:`** *Encontrando:* `Pocos valores en el dataset`\n",
    "### Segundo, abrimos los archivos de trabajo *`(Utilizados para el proyecto)`*:\n",
    "1. **`Acceso a Internet Fijo por tecnologia y localidad`**\n",
    "2. **`Acceso a Internet Fijo por banda ancha y banda angosta`**\n",
    "3. **`Penetracion del internet`**\n",
    "4. **`Listado de localidades con conectividad a internet`**\n",
    "5. **`Telefonía fija`**"
   ]
  },
  {
   "cell_type": "code",
   "execution_count": 1,
   "id": "5b8b4d60",
   "metadata": {},
   "outputs": [],
   "source": [
    "# Importamos la libreria que necesitamos para abrir los archivos\n",
    "import pandas as pd"
   ]
  },
  {
   "cell_type": "markdown",
   "id": "d81015f2",
   "metadata": {},
   "source": [
    "#### `Acceso a Internet Fijo por velocidad de bajada y provincia`"
   ]
  },
  {
   "cell_type": "code",
   "execution_count": 2,
   "id": "55ac091f",
   "metadata": {
    "scrolled": true
   },
   "outputs": [],
   "source": [
    "# Abrimos el dataset\n",
    "df = pd.read_csv('../data/AccesosaInternetfijoporvelocidadbajadayprovincia_2791741699407548416.csv')\n",
    "df.head(2) "
   ]
  },
  {
   "cell_type": "code",
   "execution_count": 3,
   "id": "71823454",
   "metadata": {},
   "outputs": [
    {
     "data": {
      "text/plain": [
       "(505, 97)"
      ]
     },
     "execution_count": 3,
     "metadata": {},
     "output_type": "execute_result"
    }
   ],
   "source": [
    "# Demasiadas columnas y pocos datos\n",
    "df.shape"
   ]
  },
  {
   "cell_type": "markdown",
   "id": "4009df0d",
   "metadata": {},
   "source": [
    "#### `Acceso a Internet Fijo por velocidad de bajada y localidad`"
   ]
  },
  {
   "cell_type": "code",
   "execution_count": 4,
   "id": "77ae23b2",
   "metadata": {},
   "outputs": [],
   "source": [
    "# Abrimos el dataset\n",
    "df1 = pd.read_csv('../data/AccesosaInternetfijoporvelocidaddebajadaylocalidad_2776171699407474065.csv')\n",
    "#df1.head()"
   ]
  },
  {
   "cell_type": "code",
   "execution_count": 5,
   "id": "40b0a5a8",
   "metadata": {
    "scrolled": true
   },
   "outputs": [
    {
     "data": {
      "text/plain": [
       "(3095, 83)"
      ]
     },
     "execution_count": 5,
     "metadata": {},
     "output_type": "execute_result"
    }
   ],
   "source": [
    "# Velocidades con puros valores nulos\n",
    "df1.shape"
   ]
  },
  {
   "cell_type": "markdown",
   "id": "5172f4aa",
   "metadata": {},
   "source": [
    "#### `Velocidad media de bajada de Internet fijo por provincia`"
   ]
  },
  {
   "cell_type": "code",
   "execution_count": 6,
   "id": "704d1f43",
   "metadata": {},
   "outputs": [],
   "source": [
    "# Abrimos el dataset\n",
    "df2 = pd.read_csv('../data/historico_velocidad_internet.csv')\n",
    "#df2.head()"
   ]
  },
  {
   "cell_type": "code",
   "execution_count": 7,
   "id": "2c15190b",
   "metadata": {},
   "outputs": [
    {
     "name": "stdout",
     "output_type": "stream",
     "text": [
      "<class 'pandas.core.frame.DataFrame'>\n",
      "RangeIndex: 36 entries, 0 to 35\n",
      "Data columns (total 4 columns):\n",
      " #   Column                  Non-Null Count  Dtype  \n",
      "---  ------                  --------------  -----  \n",
      " 0   Año                     36 non-null     int64  \n",
      " 1   Trimestre               36 non-null     int64  \n",
      " 2   Mbps (Media de bajada)  36 non-null     float64\n",
      " 3   Trimestre.1             36 non-null     object \n",
      "dtypes: float64(1), int64(2), object(1)\n",
      "memory usage: 1.3+ KB\n"
     ]
    }
   ],
   "source": [
    "# Pocos valores en el dataset  \n",
    "df2.info()"
   ]
  },
  {
   "cell_type": "markdown",
   "id": "df662d00",
   "metadata": {},
   "source": [
    "#### `Acceso a Internet por tecnología`"
   ]
  },
  {
   "cell_type": "code",
   "execution_count": 8,
   "id": "2811403c",
   "metadata": {},
   "outputs": [],
   "source": [
    "# Abrimos el dataset\n",
    "df3 = pd.read_csv('../data/Internet_Accesos-por-tecnologia.csv')\n",
    "#df3.head()"
   ]
  },
  {
   "cell_type": "code",
   "execution_count": 9,
   "id": "dd1596d5",
   "metadata": {},
   "outputs": [
    {
     "name": "stdout",
     "output_type": "stream",
     "text": [
      "<class 'pandas.core.frame.DataFrame'>\n",
      "RangeIndex: 36 entries, 0 to 35\n",
      "Data columns (total 9 columns):\n",
      " #   Column        Non-Null Count  Dtype \n",
      "---  ------        --------------  ----- \n",
      " 0   Año           36 non-null     int64 \n",
      " 1   Trimestre     36 non-null     int64 \n",
      " 2   ADSL          36 non-null     int64 \n",
      " 3   Cablemodem    36 non-null     int64 \n",
      " 4   Fibra óptica  36 non-null     int64 \n",
      " 5   Wireless      36 non-null     int64 \n",
      " 6   Otros         36 non-null     int64 \n",
      " 7   Total         36 non-null     int64 \n",
      " 8   Periodo       36 non-null     object\n",
      "dtypes: int64(8), object(1)\n",
      "memory usage: 2.7+ KB\n"
     ]
    }
   ],
   "source": [
    "# Pocos valores en el dataset\n",
    "df3.info()"
   ]
  },
  {
   "cell_type": "markdown",
   "id": "477a54e5",
   "metadata": {},
   "source": [
    "#### `Acceso a Internet por velocidad`"
   ]
  },
  {
   "cell_type": "code",
   "execution_count": 10,
   "id": "0ef58fcf",
   "metadata": {},
   "outputs": [],
   "source": [
    "# Abrimos el dataset\n",
    "df4 = pd.read_csv('../data/Internet_Accesos-por-velocidad.csv')\n",
    "#df4.head()"
   ]
  },
  {
   "cell_type": "code",
   "execution_count": 11,
   "id": "7f114b95",
   "metadata": {
    "scrolled": true
   },
   "outputs": [
    {
     "name": "stdout",
     "output_type": "stream",
     "text": [
      "<class 'pandas.core.frame.DataFrame'>\n",
      "RangeIndex: 36 entries, 0 to 35\n",
      "Data columns (total 11 columns):\n",
      " #   Column                   Non-Null Count  Dtype  \n",
      "---  ------                   --------------  -----  \n",
      " 0   Año                      36 non-null     int64  \n",
      " 1   Trimestre                36 non-null     int64  \n",
      " 2   Hasta 512 kbps           36 non-null     float64\n",
      " 3   Entre 512 Kbps y 1 Mbps  36 non-null     float64\n",
      " 4   Entre 1 Mbps y 6 Mbps    36 non-null     object \n",
      " 5   Entre 6 Mbps y 10 Mbps   36 non-null     object \n",
      " 6   Entre 10 Mbps y 20 Mbps  36 non-null     object \n",
      " 7   Entre 20 Mbps y 30 Mbps  36 non-null     object \n",
      " 8   Más de 30 Mbps           36 non-null     object \n",
      " 9   OTROS                    36 non-null     float64\n",
      " 10  Total                    36 non-null     object \n",
      "dtypes: float64(3), int64(2), object(6)\n",
      "memory usage: 3.2+ KB\n"
     ]
    }
   ],
   "source": [
    "# Pocos valores en el dataset\n",
    "df4.info()"
   ]
  },
  {
   "cell_type": "markdown",
   "id": "641793c6",
   "metadata": {},
   "source": [
    "#### `Ingresos en internet`"
   ]
  },
  {
   "cell_type": "code",
   "execution_count": 12,
   "id": "0597381d",
   "metadata": {},
   "outputs": [],
   "source": [
    "# Abrimos el dataset\n",
    "df5 = pd.read_csv('../data/Internet_Ingresos.csv')\n",
    "#df5.head()"
   ]
  },
  {
   "cell_type": "code",
   "execution_count": 13,
   "id": "b6244fae",
   "metadata": {
    "scrolled": false
   },
   "outputs": [
    {
     "name": "stdout",
     "output_type": "stream",
     "text": [
      "<class 'pandas.core.frame.DataFrame'>\n",
      "RangeIndex: 36 entries, 0 to 35\n",
      "Data columns (total 4 columns):\n",
      " #   Column                     Non-Null Count  Dtype \n",
      "---  ------                     --------------  ----- \n",
      " 0   Año                        36 non-null     int64 \n",
      " 1   Trimestre                  36 non-null     int64 \n",
      " 2   Ingresos (miles de pesos)  36 non-null     int64 \n",
      " 3   Periodo                    36 non-null     object\n",
      "dtypes: int64(3), object(1)\n",
      "memory usage: 1.3+ KB\n"
     ]
    }
   ],
   "source": [
    "# Pocos valores en el dataset\n",
    "df5.info()"
   ]
  },
  {
   "cell_type": "markdown",
   "id": "7594e38b",
   "metadata": {},
   "source": [
    "#### `Telefonia móvil`"
   ]
  },
  {
   "cell_type": "code",
   "execution_count": 14,
   "id": "4d12a0c9",
   "metadata": {},
   "outputs": [],
   "source": [
    "df6 = pd.read_csv('../data/Telefonia_movil.csv')\n",
    "#df6.head()"
   ]
  },
  {
   "cell_type": "code",
   "execution_count": 15,
   "id": "8ff78253",
   "metadata": {},
   "outputs": [
    {
     "name": "stdout",
     "output_type": "stream",
     "text": [
      "<class 'pandas.core.frame.DataFrame'>\n",
      "RangeIndex: 40 entries, 0 to 39\n",
      "Data columns (total 4 columns):\n",
      " #   Column                    Non-Null Count  Dtype  \n",
      "---  ------                    --------------  -----  \n",
      " 0   Año                       40 non-null     int64  \n",
      " 1   Trimestre                 40 non-null     int64  \n",
      " 2   Accesos por cada 100 hab  40 non-null     float64\n",
      " 3   Periodo                   40 non-null     object \n",
      "dtypes: float64(1), int64(2), object(1)\n",
      "memory usage: 1.4+ KB\n"
     ]
    }
   ],
   "source": [
    "# Pocos valores en el dataset\n",
    "df6.info()"
   ]
  },
  {
   "cell_type": "markdown",
   "id": "25ac33a3",
   "metadata": {},
   "source": [
    "## `Archivos de trabajo`\n",
    "- `Creados y enviados al dataset`"
   ]
  },
  {
   "cell_type": "markdown",
   "id": "6c39f52a",
   "metadata": {},
   "source": [
    "#### `Acceso a Internet Fijo por tecnologia y localidad`"
   ]
  },
  {
   "cell_type": "code",
   "execution_count": 37,
   "id": "e4b57979",
   "metadata": {},
   "outputs": [
    {
     "data": {
      "text/html": [
       "<div>\n",
       "<style scoped>\n",
       "    .dataframe tbody tr th:only-of-type {\n",
       "        vertical-align: middle;\n",
       "    }\n",
       "\n",
       "    .dataframe tbody tr th {\n",
       "        vertical-align: top;\n",
       "    }\n",
       "\n",
       "    .dataframe thead th {\n",
       "        text-align: right;\n",
       "    }\n",
       "</style>\n",
       "<table border=\"1\" class=\"dataframe\">\n",
       "  <thead>\n",
       "    <tr style=\"text-align: right;\">\n",
       "      <th></th>\n",
       "      <th>Provincia</th>\n",
       "      <th>Partido</th>\n",
       "      <th>Localidad</th>\n",
       "      <th>Link Indec</th>\n",
       "      <th>ADSL</th>\n",
       "      <th>CABLEMODEM</th>\n",
       "      <th>DIAL UP</th>\n",
       "      <th>FIBRA OPTICA</th>\n",
       "      <th>OTROS</th>\n",
       "      <th>SATELITAL</th>\n",
       "      <th>WIMAX</th>\n",
       "      <th>WIRELESS</th>\n",
       "      <th>Total general</th>\n",
       "      <th>Unnamed: 13</th>\n",
       "    </tr>\n",
       "  </thead>\n",
       "  <tbody>\n",
       "    <tr>\n",
       "      <th>0</th>\n",
       "      <td>BUENOS AIRES</td>\n",
       "      <td>25 de Mayo</td>\n",
       "      <td>25 de Mayo</td>\n",
       "      <td>6854100</td>\n",
       "      <td>874</td>\n",
       "      <td>4,54</td>\n",
       "      <td>- 0</td>\n",
       "      <td>3</td>\n",
       "      <td>- 0</td>\n",
       "      <td>852</td>\n",
       "      <td>- 0</td>\n",
       "      <td>706</td>\n",
       "      <td>6,98</td>\n",
       "      <td>NaN</td>\n",
       "    </tr>\n",
       "    <tr>\n",
       "      <th>1</th>\n",
       "      <td>BUENOS AIRES</td>\n",
       "      <td>25 de Mayo</td>\n",
       "      <td>Del Valle</td>\n",
       "      <td>6854020</td>\n",
       "      <td>181</td>\n",
       "      <td>- 0</td>\n",
       "      <td>- 0</td>\n",
       "      <td>- 0</td>\n",
       "      <td>10</td>\n",
       "      <td>1</td>\n",
       "      <td>- 0</td>\n",
       "      <td>- 0</td>\n",
       "      <td>192</td>\n",
       "      <td>NaN</td>\n",
       "    </tr>\n",
       "    <tr>\n",
       "      <th>2</th>\n",
       "      <td>BUENOS AIRES</td>\n",
       "      <td>25 de Mayo</td>\n",
       "      <td>Gobernador Ugarte</td>\n",
       "      <td>6854040</td>\n",
       "      <td>- 0</td>\n",
       "      <td>- 0</td>\n",
       "      <td>- 0</td>\n",
       "      <td>- 0</td>\n",
       "      <td>- 0</td>\n",
       "      <td>- 0</td>\n",
       "      <td>- 0</td>\n",
       "      <td>181</td>\n",
       "      <td>181</td>\n",
       "      <td>NaN</td>\n",
       "    </tr>\n",
       "    <tr>\n",
       "      <th>3</th>\n",
       "      <td>BUENOS AIRES</td>\n",
       "      <td>25 de Mayo</td>\n",
       "      <td>Norberto de la Riestra</td>\n",
       "      <td>6854060</td>\n",
       "      <td>- 0</td>\n",
       "      <td>782</td>\n",
       "      <td>- 0</td>\n",
       "      <td>6</td>\n",
       "      <td>167</td>\n",
       "      <td>- 0</td>\n",
       "      <td>- 0</td>\n",
       "      <td>327</td>\n",
       "      <td>1,28</td>\n",
       "      <td>NaN</td>\n",
       "    </tr>\n",
       "    <tr>\n",
       "      <th>4</th>\n",
       "      <td>BUENOS AIRES</td>\n",
       "      <td>25 de Mayo</td>\n",
       "      <td>Lucas Monteverde</td>\n",
       "      <td>6854050</td>\n",
       "      <td>- 0</td>\n",
       "      <td>- 0</td>\n",
       "      <td>- 0</td>\n",
       "      <td>- 0</td>\n",
       "      <td>- 0</td>\n",
       "      <td>- 0</td>\n",
       "      <td>- 0</td>\n",
       "      <td>6</td>\n",
       "      <td>6</td>\n",
       "      <td>NaN</td>\n",
       "    </tr>\n",
       "  </tbody>\n",
       "</table>\n",
       "</div>"
      ],
      "text/plain": [
       "      Provincia     Partido               Localidad Link Indec ADSL  \\\n",
       "0  BUENOS AIRES  25 de Mayo              25 de Mayo    6854100  874   \n",
       "1  BUENOS AIRES  25 de Mayo               Del Valle    6854020  181   \n",
       "2  BUENOS AIRES  25 de Mayo       Gobernador Ugarte    6854040  - 0   \n",
       "3  BUENOS AIRES  25 de Mayo  Norberto de la Riestra    6854060  - 0   \n",
       "4  BUENOS AIRES  25 de Mayo        Lucas Monteverde    6854050  - 0   \n",
       "\n",
       "  CABLEMODEM DIAL UP FIBRA OPTICA OTROS SATELITAL WIMAX WIRELESS  \\\n",
       "0       4,54     - 0            3   - 0       852   - 0      706   \n",
       "1        - 0     - 0          - 0    10         1   - 0      - 0   \n",
       "2        - 0     - 0          - 0   - 0       - 0   - 0      181   \n",
       "3        782     - 0            6   167       - 0   - 0      327   \n",
       "4        - 0     - 0          - 0   - 0       - 0   - 0        6   \n",
       "\n",
       "  Total general  Unnamed: 13  \n",
       "0          6,98          NaN  \n",
       "1           192          NaN  \n",
       "2           181          NaN  \n",
       "3          1,28          NaN  \n",
       "4             6          NaN  "
      ]
     },
     "execution_count": 37,
     "metadata": {},
     "output_type": "execute_result"
    }
   ],
   "source": [
    "# Abrimos el dataset\n",
    "df7 = pd.read_csv('../data/AccesosaInternetfijoportecnologiaylocalidad_2791751699406735912.csv',decimal='.',thousands=' ')\n",
    "df7.head()"
   ]
  },
  {
   "cell_type": "code",
   "execution_count": 31,
   "id": "c1f14542",
   "metadata": {},
   "outputs": [],
   "source": [
    "# Eliminamos la columna con puros valores nulos y desconocida\n",
    "df7 = df7.drop(['Unnamed: 13'],axis=1)"
   ]
  },
  {
   "cell_type": "code",
   "execution_count": 32,
   "id": "7422f968",
   "metadata": {},
   "outputs": [
    {
     "data": {
      "text/html": [
       "<div>\n",
       "<style scoped>\n",
       "    .dataframe tbody tr th:only-of-type {\n",
       "        vertical-align: middle;\n",
       "    }\n",
       "\n",
       "    .dataframe tbody tr th {\n",
       "        vertical-align: top;\n",
       "    }\n",
       "\n",
       "    .dataframe thead th {\n",
       "        text-align: right;\n",
       "    }\n",
       "</style>\n",
       "<table border=\"1\" class=\"dataframe\">\n",
       "  <thead>\n",
       "    <tr style=\"text-align: right;\">\n",
       "      <th></th>\n",
       "      <th>Provincia</th>\n",
       "      <th>Partido</th>\n",
       "      <th>Localidad</th>\n",
       "      <th>Link Indec</th>\n",
       "      <th>ADSL</th>\n",
       "      <th>CABLEMODEM</th>\n",
       "      <th>DIAL UP</th>\n",
       "      <th>FIBRA OPTICA</th>\n",
       "      <th>OTROS</th>\n",
       "      <th>SATELITAL</th>\n",
       "      <th>WIMAX</th>\n",
       "      <th>WIRELESS</th>\n",
       "      <th>Total general</th>\n",
       "    </tr>\n",
       "  </thead>\n",
       "  <tbody>\n",
       "    <tr>\n",
       "      <th>0</th>\n",
       "      <td>BUENOS AIRES</td>\n",
       "      <td>25 de Mayo</td>\n",
       "      <td>25 de Mayo</td>\n",
       "      <td>6854100</td>\n",
       "      <td>874</td>\n",
       "      <td>4,54</td>\n",
       "      <td>- 0</td>\n",
       "      <td>3</td>\n",
       "      <td>- 0</td>\n",
       "      <td>852.0</td>\n",
       "      <td>-0.0</td>\n",
       "      <td>706</td>\n",
       "      <td>6,98</td>\n",
       "    </tr>\n",
       "    <tr>\n",
       "      <th>1</th>\n",
       "      <td>BUENOS AIRES</td>\n",
       "      <td>25 de Mayo</td>\n",
       "      <td>Del Valle</td>\n",
       "      <td>6854020</td>\n",
       "      <td>181</td>\n",
       "      <td>- 0</td>\n",
       "      <td>- 0</td>\n",
       "      <td>- 0</td>\n",
       "      <td>10</td>\n",
       "      <td>1.0</td>\n",
       "      <td>-0.0</td>\n",
       "      <td>- 0</td>\n",
       "      <td>192</td>\n",
       "    </tr>\n",
       "    <tr>\n",
       "      <th>2</th>\n",
       "      <td>BUENOS AIRES</td>\n",
       "      <td>25 de Mayo</td>\n",
       "      <td>Gobernador Ugarte</td>\n",
       "      <td>6854040</td>\n",
       "      <td>- 0</td>\n",
       "      <td>- 0</td>\n",
       "      <td>- 0</td>\n",
       "      <td>- 0</td>\n",
       "      <td>- 0</td>\n",
       "      <td>-0.0</td>\n",
       "      <td>-0.0</td>\n",
       "      <td>181</td>\n",
       "      <td>181</td>\n",
       "    </tr>\n",
       "    <tr>\n",
       "      <th>3</th>\n",
       "      <td>BUENOS AIRES</td>\n",
       "      <td>25 de Mayo</td>\n",
       "      <td>Norberto de la Riestra</td>\n",
       "      <td>6854060</td>\n",
       "      <td>- 0</td>\n",
       "      <td>782</td>\n",
       "      <td>- 0</td>\n",
       "      <td>6</td>\n",
       "      <td>167</td>\n",
       "      <td>-0.0</td>\n",
       "      <td>-0.0</td>\n",
       "      <td>327</td>\n",
       "      <td>1,28</td>\n",
       "    </tr>\n",
       "    <tr>\n",
       "      <th>4</th>\n",
       "      <td>BUENOS AIRES</td>\n",
       "      <td>25 de Mayo</td>\n",
       "      <td>Lucas Monteverde</td>\n",
       "      <td>6854050</td>\n",
       "      <td>- 0</td>\n",
       "      <td>- 0</td>\n",
       "      <td>- 0</td>\n",
       "      <td>- 0</td>\n",
       "      <td>- 0</td>\n",
       "      <td>-0.0</td>\n",
       "      <td>-0.0</td>\n",
       "      <td>6</td>\n",
       "      <td>6</td>\n",
       "    </tr>\n",
       "  </tbody>\n",
       "</table>\n",
       "</div>"
      ],
      "text/plain": [
       "      Provincia     Partido               Localidad Link Indec ADSL  \\\n",
       "0  BUENOS AIRES  25 de Mayo              25 de Mayo    6854100  874   \n",
       "1  BUENOS AIRES  25 de Mayo               Del Valle    6854020  181   \n",
       "2  BUENOS AIRES  25 de Mayo       Gobernador Ugarte    6854040  - 0   \n",
       "3  BUENOS AIRES  25 de Mayo  Norberto de la Riestra    6854060  - 0   \n",
       "4  BUENOS AIRES  25 de Mayo        Lucas Monteverde    6854050  - 0   \n",
       "\n",
       "  CABLEMODEM DIAL UP FIBRA OPTICA OTROS  SATELITAL  WIMAX WIRELESS  \\\n",
       "0       4,54     - 0            3   - 0      852.0   -0.0      706   \n",
       "1        - 0     - 0          - 0    10        1.0   -0.0      - 0   \n",
       "2        - 0     - 0          - 0   - 0       -0.0   -0.0      181   \n",
       "3        782     - 0            6   167       -0.0   -0.0      327   \n",
       "4        - 0     - 0          - 0   - 0       -0.0   -0.0        6   \n",
       "\n",
       "  Total general  \n",
       "0          6,98  \n",
       "1           192  \n",
       "2           181  \n",
       "3          1,28  \n",
       "4             6  "
      ]
     },
     "execution_count": 32,
     "metadata": {},
     "output_type": "execute_result"
    }
   ],
   "source": [
    "# Verificamos los resultados\n",
    "df7.head()"
   ]
  },
  {
   "cell_type": "code",
   "execution_count": 19,
   "id": "3586f19d",
   "metadata": {},
   "outputs": [],
   "source": [
    "# Salvamos el dataset como 'Internet_tec_loc.csv'\n",
    "#df7.to_csv('Internet_tec_loc.csv',index=False)"
   ]
  },
  {
   "cell_type": "code",
   "execution_count": 21,
   "id": "2f1158f3",
   "metadata": {},
   "outputs": [
    {
     "name": "stdout",
     "output_type": "stream",
     "text": [
      "<class 'pandas.core.frame.DataFrame'>\n",
      "RangeIndex: 3137 entries, 0 to 3136\n",
      "Data columns (total 13 columns):\n",
      " #   Column         Non-Null Count  Dtype \n",
      "---  ------         --------------  ----- \n",
      " 0   Provincia      3137 non-null   object\n",
      " 1   Partido        3137 non-null   object\n",
      " 2   Localidad      3137 non-null   object\n",
      " 3   Link Indec     3137 non-null   object\n",
      " 4   ADSL           3137 non-null   object\n",
      " 5   CABLEMODEM     3137 non-null   object\n",
      " 6   DIAL UP        3137 non-null   object\n",
      " 7   FIBRA OPTICA   3137 non-null   object\n",
      " 8   OTROS          3137 non-null   object\n",
      " 9   SATELITAL      3137 non-null   object\n",
      " 10  WIMAX          3137 non-null   object\n",
      " 11  WIRELESS       3137 non-null   object\n",
      " 12  Total general  3137 non-null   object\n",
      "dtypes: object(13)\n",
      "memory usage: 318.7+ KB\n"
     ]
    }
   ],
   "source": [
    "df7.info()"
   ]
  },
  {
   "cell_type": "markdown",
   "id": "41558994",
   "metadata": {},
   "source": [
    "#### Resumen: `Acceso a Internet Fijo por tecnologia y localidad`\n",
    "* Limpiamos el dataset reduciendo a `13 columnas y 3137 registros.`\n",
    "* Salvamos el dataset como `Internet_tec_loc.csv`\n",
    "* Lo reservamos para usar en `PowerBI`\n",
    "* Lo fusionaremos más adelante para trabajar el `EDA`"
   ]
  },
  {
   "cell_type": "markdown",
   "id": "c952f044",
   "metadata": {},
   "source": [
    "#### `Listado de localidades con conectividad a internet`"
   ]
  },
  {
   "cell_type": "code",
   "execution_count": 20,
   "id": "456d8302",
   "metadata": {
    "scrolled": true
   },
   "outputs": [
    {
     "data": {
      "text/html": [
       "<div>\n",
       "<style scoped>\n",
       "    .dataframe tbody tr th:only-of-type {\n",
       "        vertical-align: middle;\n",
       "    }\n",
       "\n",
       "    .dataframe tbody tr th {\n",
       "        vertical-align: top;\n",
       "    }\n",
       "\n",
       "    .dataframe thead th {\n",
       "        text-align: right;\n",
       "    }\n",
       "</style>\n",
       "<table border=\"1\" class=\"dataframe\">\n",
       "  <thead>\n",
       "    <tr style=\"text-align: right;\">\n",
       "      <th></th>\n",
       "      <th>Provincia</th>\n",
       "      <th>Partido</th>\n",
       "      <th>Localidad</th>\n",
       "      <th>ADSL</th>\n",
       "      <th>Cablemódem</th>\n",
       "      <th>Dial Up</th>\n",
       "      <th>Fibra óptica</th>\n",
       "      <th>4G</th>\n",
       "      <th>3G</th>\n",
       "      <th>Telefonía Fija</th>\n",
       "      <th>Wireless</th>\n",
       "      <th>Satelital</th>\n",
       "    </tr>\n",
       "  </thead>\n",
       "  <tbody>\n",
       "    <tr>\n",
       "      <th>0</th>\n",
       "      <td>BUENOS AIRES</td>\n",
       "      <td>9 de Julio</td>\n",
       "      <td>Alfredo Demarchi (Est. Facundo Quiroga)</td>\n",
       "      <td>SI</td>\n",
       "      <td>--</td>\n",
       "      <td>--</td>\n",
       "      <td>--</td>\n",
       "      <td>SI</td>\n",
       "      <td>SI</td>\n",
       "      <td>SI</td>\n",
       "      <td>--</td>\n",
       "      <td>--</td>\n",
       "    </tr>\n",
       "    <tr>\n",
       "      <th>1</th>\n",
       "      <td>BUENOS AIRES</td>\n",
       "      <td>9 de Julio</td>\n",
       "      <td>Carlos María Naón</td>\n",
       "      <td>--</td>\n",
       "      <td>--</td>\n",
       "      <td>--</td>\n",
       "      <td>--</td>\n",
       "      <td>SI</td>\n",
       "      <td>SI</td>\n",
       "      <td>SI</td>\n",
       "      <td>--</td>\n",
       "      <td>--</td>\n",
       "    </tr>\n",
       "    <tr>\n",
       "      <th>2</th>\n",
       "      <td>BUENOS AIRES</td>\n",
       "      <td>9 de Julio</td>\n",
       "      <td>Dudignac</td>\n",
       "      <td>--</td>\n",
       "      <td>--</td>\n",
       "      <td>SI</td>\n",
       "      <td>--</td>\n",
       "      <td>SI</td>\n",
       "      <td>SI</td>\n",
       "      <td>SI</td>\n",
       "      <td>SI</td>\n",
       "      <td>--</td>\n",
       "    </tr>\n",
       "    <tr>\n",
       "      <th>3</th>\n",
       "      <td>BUENOS AIRES</td>\n",
       "      <td>9 de Julio</td>\n",
       "      <td>La Aurora (Est. La Niña)</td>\n",
       "      <td>--</td>\n",
       "      <td>--</td>\n",
       "      <td>--</td>\n",
       "      <td>--</td>\n",
       "      <td>SI</td>\n",
       "      <td>--</td>\n",
       "      <td>--</td>\n",
       "      <td>--</td>\n",
       "      <td>--</td>\n",
       "    </tr>\n",
       "    <tr>\n",
       "      <th>4</th>\n",
       "      <td>BUENOS AIRES</td>\n",
       "      <td>9 de Julio</td>\n",
       "      <td>Manuel B. Gonnet (Est. French)</td>\n",
       "      <td>SI</td>\n",
       "      <td>--</td>\n",
       "      <td>--</td>\n",
       "      <td>SI</td>\n",
       "      <td>SI</td>\n",
       "      <td>SI</td>\n",
       "      <td>SI</td>\n",
       "      <td>--</td>\n",
       "      <td>--</td>\n",
       "    </tr>\n",
       "  </tbody>\n",
       "</table>\n",
       "</div>"
      ],
      "text/plain": [
       "      Provincia     Partido                                Localidad ADSL  \\\n",
       "0  BUENOS AIRES  9 de Julio  Alfredo Demarchi (Est. Facundo Quiroga)   SI   \n",
       "1  BUENOS AIRES  9 de Julio                        Carlos María Naón   --   \n",
       "2  BUENOS AIRES  9 de Julio                                 Dudignac   --   \n",
       "3  BUENOS AIRES  9 de Julio                 La Aurora (Est. La Niña)   --   \n",
       "4  BUENOS AIRES  9 de Julio           Manuel B. Gonnet (Est. French)   SI   \n",
       "\n",
       "  Cablemódem Dial Up Fibra óptica  4G  3G Telefonía Fija Wireless Satelital  \n",
       "0         --      --           --  SI  SI             SI       --        --  \n",
       "1         --      --           --  SI  SI             SI       --        --  \n",
       "2         --      SI           --  SI  SI             SI       SI        --  \n",
       "3         --      --           --  SI  --             --       --        --  \n",
       "4         --      --           SI  SI  SI             SI       --        --  "
      ]
     },
     "execution_count": 20,
     "metadata": {},
     "output_type": "execute_result"
    }
   ],
   "source": [
    "# Abrimos el dataset\n",
    "df10 = pd.read_csv('../data/Listadodelocalidadesconconectividadainternet_2750221699406770237.csv')\n",
    "df10.head()"
   ]
  },
  {
   "cell_type": "code",
   "execution_count": 35,
   "id": "59f5c1b8",
   "metadata": {},
   "outputs": [
    {
     "name": "stdout",
     "output_type": "stream",
     "text": [
      "<class 'pandas.core.frame.DataFrame'>\n",
      "RangeIndex: 4311 entries, 0 to 4310\n",
      "Data columns (total 12 columns):\n",
      " #   Column          Non-Null Count  Dtype \n",
      "---  ------          --------------  ----- \n",
      " 0   Provincia       4311 non-null   object\n",
      " 1   Partido         4311 non-null   object\n",
      " 2   Localidad       4311 non-null   object\n",
      " 3   ADSL            4311 non-null   object\n",
      " 4   Cablemódem      4311 non-null   object\n",
      " 5   Dial Up         4311 non-null   object\n",
      " 6   Fibra óptica    4311 non-null   object\n",
      " 7   4G              4311 non-null   object\n",
      " 8   3G              4311 non-null   object\n",
      " 9   Telefonía Fija  4311 non-null   object\n",
      " 10  Wireless        4311 non-null   object\n",
      " 11  Satelital       4311 non-null   object\n",
      "dtypes: object(12)\n",
      "memory usage: 404.3+ KB\n"
     ]
    }
   ],
   "source": [
    "df10.info()"
   ]
  },
  {
   "cell_type": "code",
   "execution_count": 36,
   "id": "547da879",
   "metadata": {},
   "outputs": [],
   "source": [
    "# Salvamos el dataset como 'Localidad_internet.csv'\n",
    "#df10.to_csv('Localidad_internet.csv',index=False)"
   ]
  },
  {
   "cell_type": "markdown",
   "id": "6550fda8",
   "metadata": {},
   "source": [
    "#### Resumen: `Listado de localidades con conectividad a internet`\n",
    "* Limpiamos el dataset reduciendo a `12 columnas y 4311 registros.`\n",
    "* Salvamos el dataset como `Localidad_internet.csv`\n",
    "* Lo reservamos para usar en `PowerBI`\n",
    "* Lo fusionaremos más adelante para trabajar el `EDA`"
   ]
  },
  {
   "cell_type": "markdown",
   "id": "6d29a48d",
   "metadata": {},
   "source": [
    "#### `Acceso a Internet Fijo por banda ancha y banda angosta`"
   ]
  },
  {
   "cell_type": "code",
   "execution_count": 40,
   "id": "071b3929",
   "metadata": {},
   "outputs": [
    {
     "data": {
      "text/html": [
       "<div>\n",
       "<style scoped>\n",
       "    .dataframe tbody tr th:only-of-type {\n",
       "        vertical-align: middle;\n",
       "    }\n",
       "\n",
       "    .dataframe tbody tr th {\n",
       "        vertical-align: top;\n",
       "    }\n",
       "\n",
       "    .dataframe thead th {\n",
       "        text-align: right;\n",
       "    }\n",
       "</style>\n",
       "<table border=\"1\" class=\"dataframe\">\n",
       "  <thead>\n",
       "    <tr style=\"text-align: right;\">\n",
       "      <th></th>\n",
       "      <th>Año</th>\n",
       "      <th>Trimestre</th>\n",
       "      <th>Provincia</th>\n",
       "      <th>Banda ancha fija</th>\n",
       "      <th>Dial up</th>\n",
       "      <th>Total</th>\n",
       "    </tr>\n",
       "  </thead>\n",
       "  <tbody>\n",
       "    <tr>\n",
       "      <th>0</th>\n",
       "      <td>2022</td>\n",
       "      <td>4</td>\n",
       "      <td>Buenos Aires</td>\n",
       "      <td>5</td>\n",
       "      <td>6.0</td>\n",
       "      <td>5</td>\n",
       "    </tr>\n",
       "    <tr>\n",
       "      <th>1</th>\n",
       "      <td>2022</td>\n",
       "      <td>4</td>\n",
       "      <td>Capital Federal</td>\n",
       "      <td>2</td>\n",
       "      <td>2.0</td>\n",
       "      <td>2</td>\n",
       "    </tr>\n",
       "    <tr>\n",
       "      <th>2</th>\n",
       "      <td>2022</td>\n",
       "      <td>4</td>\n",
       "      <td>Catamarca</td>\n",
       "      <td>71</td>\n",
       "      <td>1.0</td>\n",
       "      <td>71</td>\n",
       "    </tr>\n",
       "    <tr>\n",
       "      <th>3</th>\n",
       "      <td>2022</td>\n",
       "      <td>4</td>\n",
       "      <td>Chaco</td>\n",
       "      <td>144</td>\n",
       "      <td>5.0</td>\n",
       "      <td>144</td>\n",
       "    </tr>\n",
       "    <tr>\n",
       "      <th>4</th>\n",
       "      <td>2022</td>\n",
       "      <td>4</td>\n",
       "      <td>Chubut</td>\n",
       "      <td>168</td>\n",
       "      <td>904.0</td>\n",
       "      <td>169</td>\n",
       "    </tr>\n",
       "  </tbody>\n",
       "</table>\n",
       "</div>"
      ],
      "text/plain": [
       "    Año  Trimestre        Provincia  Banda ancha fija  Dial up  Total\n",
       "0  2022          4     Buenos Aires                 5      6.0      5\n",
       "1  2022          4  Capital Federal                 2      2.0      2\n",
       "2  2022          4        Catamarca                71      1.0     71\n",
       "3  2022          4            Chaco               144      5.0    144\n",
       "4  2022          4           Chubut               168    904.0    169"
      ]
     },
     "execution_count": 40,
     "metadata": {},
     "output_type": "execute_result"
    }
   ],
   "source": [
    "# Abrimos el dataset\n",
    "df8 = pd.read_csv('../data/Internet_BAF.csv')\n",
    "df8.head()"
   ]
  },
  {
   "cell_type": "code",
   "execution_count": 39,
   "id": "43ede663",
   "metadata": {},
   "outputs": [
    {
     "data": {
      "text/html": [
       "<div>\n",
       "<style scoped>\n",
       "    .dataframe tbody tr th:only-of-type {\n",
       "        vertical-align: middle;\n",
       "    }\n",
       "\n",
       "    .dataframe tbody tr th {\n",
       "        vertical-align: top;\n",
       "    }\n",
       "\n",
       "    .dataframe thead th {\n",
       "        text-align: right;\n",
       "    }\n",
       "</style>\n",
       "<table border=\"1\" class=\"dataframe\">\n",
       "  <thead>\n",
       "    <tr style=\"text-align: right;\">\n",
       "      <th></th>\n",
       "      <th>Año</th>\n",
       "      <th>Trimestre</th>\n",
       "      <th>Ingresos (miles de pesos)</th>\n",
       "      <th>Periodo</th>\n",
       "    </tr>\n",
       "  </thead>\n",
       "  <tbody>\n",
       "    <tr>\n",
       "      <th>0</th>\n",
       "      <td>2022</td>\n",
       "      <td>4</td>\n",
       "      <td>72</td>\n",
       "      <td>Oct-Dic 2022</td>\n",
       "    </tr>\n",
       "    <tr>\n",
       "      <th>1</th>\n",
       "      <td>2022</td>\n",
       "      <td>3</td>\n",
       "      <td>64</td>\n",
       "      <td>Jul-Sept 2022</td>\n",
       "    </tr>\n",
       "    <tr>\n",
       "      <th>2</th>\n",
       "      <td>2022</td>\n",
       "      <td>2</td>\n",
       "      <td>60</td>\n",
       "      <td>Abr-Jun 2022</td>\n",
       "    </tr>\n",
       "    <tr>\n",
       "      <th>3</th>\n",
       "      <td>2022</td>\n",
       "      <td>1</td>\n",
       "      <td>55</td>\n",
       "      <td>Ene-Mar 2022</td>\n",
       "    </tr>\n",
       "    <tr>\n",
       "      <th>4</th>\n",
       "      <td>2021</td>\n",
       "      <td>4</td>\n",
       "      <td>45</td>\n",
       "      <td>Oct-Dic 2021</td>\n",
       "    </tr>\n",
       "  </tbody>\n",
       "</table>\n",
       "</div>"
      ],
      "text/plain": [
       "    Año  Trimestre  Ingresos (miles de pesos)        Periodo\n",
       "0  2022          4                         72   Oct-Dic 2022\n",
       "1  2022          3                         64  Jul-Sept 2022\n",
       "2  2022          2                         60   Abr-Jun 2022\n",
       "3  2022          1                         55   Ene-Mar 2022\n",
       "4  2021          4                         45   Oct-Dic 2021"
      ]
     },
     "execution_count": 39,
     "metadata": {},
     "output_type": "execute_result"
    }
   ],
   "source": [
    "df5.head()"
   ]
  },
  {
   "cell_type": "code",
   "execution_count": 23,
   "id": "83d639e7",
   "metadata": {},
   "outputs": [
    {
     "data": {
      "text/html": [
       "<div>\n",
       "<style scoped>\n",
       "    .dataframe tbody tr th:only-of-type {\n",
       "        vertical-align: middle;\n",
       "    }\n",
       "\n",
       "    .dataframe tbody tr th {\n",
       "        vertical-align: top;\n",
       "    }\n",
       "\n",
       "    .dataframe thead th {\n",
       "        text-align: right;\n",
       "    }\n",
       "</style>\n",
       "<table border=\"1\" class=\"dataframe\">\n",
       "  <thead>\n",
       "    <tr style=\"text-align: right;\">\n",
       "      <th></th>\n",
       "      <th>Año</th>\n",
       "      <th>Trimestre</th>\n",
       "      <th>Provincia</th>\n",
       "      <th>Banda ancha fija</th>\n",
       "      <th>Dial up</th>\n",
       "      <th>Total</th>\n",
       "    </tr>\n",
       "  </thead>\n",
       "  <tbody>\n",
       "    <tr>\n",
       "      <th>440</th>\n",
       "      <td>2018</td>\n",
       "      <td>2</td>\n",
       "      <td>Formosa</td>\n",
       "      <td>45</td>\n",
       "      <td>NaN</td>\n",
       "      <td>45</td>\n",
       "    </tr>\n",
       "    <tr>\n",
       "      <th>445</th>\n",
       "      <td>2018</td>\n",
       "      <td>2</td>\n",
       "      <td>Misiones</td>\n",
       "      <td>106</td>\n",
       "      <td>NaN</td>\n",
       "      <td>106</td>\n",
       "    </tr>\n",
       "  </tbody>\n",
       "</table>\n",
       "</div>"
      ],
      "text/plain": [
       "      Año  Trimestre Provincia  Banda ancha fija  Dial up  Total\n",
       "440  2018          2   Formosa                45      NaN     45\n",
       "445  2018          2  Misiones               106      NaN    106"
      ]
     },
     "execution_count": 23,
     "metadata": {},
     "output_type": "execute_result"
    }
   ],
   "source": [
    "# Identificamos los valores nulos\n",
    "df8[df8['Dial up'].isnull()]"
   ]
  },
  {
   "cell_type": "code",
   "execution_count": 41,
   "id": "1543c610",
   "metadata": {},
   "outputs": [
    {
     "name": "stdout",
     "output_type": "stream",
     "text": [
      "<class 'pandas.core.frame.DataFrame'>\n",
      "RangeIndex: 864 entries, 0 to 863\n",
      "Data columns (total 6 columns):\n",
      " #   Column            Non-Null Count  Dtype  \n",
      "---  ------            --------------  -----  \n",
      " 0   Año               864 non-null    int64  \n",
      " 1   Trimestre         864 non-null    int64  \n",
      " 2   Provincia         864 non-null    object \n",
      " 3   Banda ancha fija  864 non-null    int64  \n",
      " 4   Dial up           862 non-null    float64\n",
      " 5   Total             864 non-null    int64  \n",
      "dtypes: float64(1), int64(4), object(1)\n",
      "memory usage: 40.6+ KB\n"
     ]
    }
   ],
   "source": [
    "# Verificamos los valores nulos\n",
    "df8.info()"
   ]
  },
  {
   "cell_type": "code",
   "execution_count": 42,
   "id": "c32baf35",
   "metadata": {},
   "outputs": [],
   "source": [
    "# Rellenamos los valores nulos por '0'\n",
    "df8['Dial up'] = df8['Dial up'].fillna(0)"
   ]
  },
  {
   "cell_type": "code",
   "execution_count": 43,
   "id": "4dbc2b4c",
   "metadata": {},
   "outputs": [
    {
     "name": "stdout",
     "output_type": "stream",
     "text": [
      "<class 'pandas.core.frame.DataFrame'>\n",
      "RangeIndex: 864 entries, 0 to 863\n",
      "Data columns (total 6 columns):\n",
      " #   Column            Non-Null Count  Dtype  \n",
      "---  ------            --------------  -----  \n",
      " 0   Año               864 non-null    int64  \n",
      " 1   Trimestre         864 non-null    int64  \n",
      " 2   Provincia         864 non-null    object \n",
      " 3   Banda ancha fija  864 non-null    int64  \n",
      " 4   Dial up           864 non-null    float64\n",
      " 5   Total             864 non-null    int64  \n",
      "dtypes: float64(1), int64(4), object(1)\n",
      "memory usage: 40.6+ KB\n"
     ]
    }
   ],
   "source": [
    "# Normalizamos los datos a 'non-null'\n",
    "df8.info()"
   ]
  },
  {
   "cell_type": "code",
   "execution_count": 44,
   "id": "4bd83cfc",
   "metadata": {},
   "outputs": [],
   "source": [
    "df = pd.merge(df5,df8,on=['Año','Trimestre'])"
   ]
  },
  {
   "cell_type": "code",
   "execution_count": 47,
   "id": "fc33a6b5",
   "metadata": {},
   "outputs": [
    {
     "data": {
      "text/html": [
       "<div>\n",
       "<style scoped>\n",
       "    .dataframe tbody tr th:only-of-type {\n",
       "        vertical-align: middle;\n",
       "    }\n",
       "\n",
       "    .dataframe tbody tr th {\n",
       "        vertical-align: top;\n",
       "    }\n",
       "\n",
       "    .dataframe thead th {\n",
       "        text-align: right;\n",
       "    }\n",
       "</style>\n",
       "<table border=\"1\" class=\"dataframe\">\n",
       "  <thead>\n",
       "    <tr style=\"text-align: right;\">\n",
       "      <th></th>\n",
       "      <th>Año</th>\n",
       "      <th>Trimestre</th>\n",
       "      <th>Ingresos (miles de pesos)</th>\n",
       "      <th>Periodo</th>\n",
       "      <th>Provincia</th>\n",
       "      <th>Banda ancha fija</th>\n",
       "      <th>Dial up</th>\n",
       "      <th>Total</th>\n",
       "    </tr>\n",
       "  </thead>\n",
       "  <tbody>\n",
       "    <tr>\n",
       "      <th>0</th>\n",
       "      <td>2022</td>\n",
       "      <td>4</td>\n",
       "      <td>72</td>\n",
       "      <td>Oct-Dic 2022</td>\n",
       "      <td>Buenos Aires</td>\n",
       "      <td>5</td>\n",
       "      <td>6.0</td>\n",
       "      <td>5</td>\n",
       "    </tr>\n",
       "    <tr>\n",
       "      <th>1</th>\n",
       "      <td>2022</td>\n",
       "      <td>4</td>\n",
       "      <td>72</td>\n",
       "      <td>Oct-Dic 2022</td>\n",
       "      <td>Capital Federal</td>\n",
       "      <td>2</td>\n",
       "      <td>2.0</td>\n",
       "      <td>2</td>\n",
       "    </tr>\n",
       "    <tr>\n",
       "      <th>2</th>\n",
       "      <td>2022</td>\n",
       "      <td>4</td>\n",
       "      <td>72</td>\n",
       "      <td>Oct-Dic 2022</td>\n",
       "      <td>Catamarca</td>\n",
       "      <td>71</td>\n",
       "      <td>1.0</td>\n",
       "      <td>71</td>\n",
       "    </tr>\n",
       "    <tr>\n",
       "      <th>3</th>\n",
       "      <td>2022</td>\n",
       "      <td>4</td>\n",
       "      <td>72</td>\n",
       "      <td>Oct-Dic 2022</td>\n",
       "      <td>Chaco</td>\n",
       "      <td>144</td>\n",
       "      <td>5.0</td>\n",
       "      <td>144</td>\n",
       "    </tr>\n",
       "    <tr>\n",
       "      <th>4</th>\n",
       "      <td>2022</td>\n",
       "      <td>4</td>\n",
       "      <td>72</td>\n",
       "      <td>Oct-Dic 2022</td>\n",
       "      <td>Chubut</td>\n",
       "      <td>168</td>\n",
       "      <td>904.0</td>\n",
       "      <td>169</td>\n",
       "    </tr>\n",
       "    <tr>\n",
       "      <th>...</th>\n",
       "      <td>...</td>\n",
       "      <td>...</td>\n",
       "      <td>...</td>\n",
       "      <td>...</td>\n",
       "      <td>...</td>\n",
       "      <td>...</td>\n",
       "      <td>...</td>\n",
       "      <td>...</td>\n",
       "    </tr>\n",
       "    <tr>\n",
       "      <th>859</th>\n",
       "      <td>2014</td>\n",
       "      <td>1</td>\n",
       "      <td>3</td>\n",
       "      <td>Ene-Mar 2014</td>\n",
       "      <td>Santa Cruz</td>\n",
       "      <td>26</td>\n",
       "      <td>460.0</td>\n",
       "      <td>27</td>\n",
       "    </tr>\n",
       "    <tr>\n",
       "      <th>860</th>\n",
       "      <td>2014</td>\n",
       "      <td>1</td>\n",
       "      <td>3</td>\n",
       "      <td>Ene-Mar 2014</td>\n",
       "      <td>Santa Fe</td>\n",
       "      <td>506</td>\n",
       "      <td>612.0</td>\n",
       "      <td>507</td>\n",
       "    </tr>\n",
       "    <tr>\n",
       "      <th>861</th>\n",
       "      <td>2014</td>\n",
       "      <td>1</td>\n",
       "      <td>3</td>\n",
       "      <td>Ene-Mar 2014</td>\n",
       "      <td>Santiago Del Estero</td>\n",
       "      <td>37</td>\n",
       "      <td>9.0</td>\n",
       "      <td>37</td>\n",
       "    </tr>\n",
       "    <tr>\n",
       "      <th>862</th>\n",
       "      <td>2014</td>\n",
       "      <td>1</td>\n",
       "      <td>3</td>\n",
       "      <td>Ene-Mar 2014</td>\n",
       "      <td>Tierra Del Fuego</td>\n",
       "      <td>27</td>\n",
       "      <td>766.0</td>\n",
       "      <td>28</td>\n",
       "    </tr>\n",
       "    <tr>\n",
       "      <th>863</th>\n",
       "      <td>2014</td>\n",
       "      <td>1</td>\n",
       "      <td>3</td>\n",
       "      <td>Ene-Mar 2014</td>\n",
       "      <td>Tucumán</td>\n",
       "      <td>130</td>\n",
       "      <td>88.0</td>\n",
       "      <td>130</td>\n",
       "    </tr>\n",
       "  </tbody>\n",
       "</table>\n",
       "<p>864 rows × 8 columns</p>\n",
       "</div>"
      ],
      "text/plain": [
       "      Año  Trimestre  Ingresos (miles de pesos)       Periodo  \\\n",
       "0    2022          4                         72  Oct-Dic 2022   \n",
       "1    2022          4                         72  Oct-Dic 2022   \n",
       "2    2022          4                         72  Oct-Dic 2022   \n",
       "3    2022          4                         72  Oct-Dic 2022   \n",
       "4    2022          4                         72  Oct-Dic 2022   \n",
       "..    ...        ...                        ...           ...   \n",
       "859  2014          1                          3  Ene-Mar 2014   \n",
       "860  2014          1                          3  Ene-Mar 2014   \n",
       "861  2014          1                          3  Ene-Mar 2014   \n",
       "862  2014          1                          3  Ene-Mar 2014   \n",
       "863  2014          1                          3  Ene-Mar 2014   \n",
       "\n",
       "               Provincia  Banda ancha fija  Dial up  Total  \n",
       "0           Buenos Aires                 5      6.0      5  \n",
       "1        Capital Federal                 2      2.0      2  \n",
       "2              Catamarca                71      1.0     71  \n",
       "3                  Chaco               144      5.0    144  \n",
       "4                 Chubut               168    904.0    169  \n",
       "..                   ...               ...      ...    ...  \n",
       "859           Santa Cruz                26    460.0     27  \n",
       "860             Santa Fe               506    612.0    507  \n",
       "861  Santiago Del Estero                37      9.0     37  \n",
       "862     Tierra Del Fuego                27    766.0     28  \n",
       "863              Tucumán               130     88.0    130  \n",
       "\n",
       "[864 rows x 8 columns]"
      ]
     },
     "execution_count": 47,
     "metadata": {},
     "output_type": "execute_result"
    }
   ],
   "source": [
    "df"
   ]
  },
  {
   "cell_type": "code",
   "execution_count": 46,
   "id": "342ce910",
   "metadata": {},
   "outputs": [
    {
     "data": {
      "text/plain": [
       "(864, 8)"
      ]
     },
     "execution_count": 46,
     "metadata": {},
     "output_type": "execute_result"
    }
   ],
   "source": [
    "df.shape"
   ]
  },
  {
   "cell_type": "code",
   "execution_count": 26,
   "id": "64ca31a6",
   "metadata": {},
   "outputs": [],
   "source": [
    "# Salvamos el dataset como 'Internet_banda_ancha_angosta.csv'\n",
    "#df8.to_csv('Internet_banda_ancha_angosta.csv',index=False)"
   ]
  },
  {
   "cell_type": "markdown",
   "id": "a4154c48",
   "metadata": {},
   "source": [
    "#### Resumen: `Acceso a Internet Fijo por banda ancha y banda angosta`\n",
    "* Limpiamos el dataset reduciendo a `6 columnas y 864 registros.`\n",
    "* Salvamos el dataset como `Internet_banda_ancha_angosta.csv`\n",
    "* Lo reservamos para usar en `PowerBI`\n",
    "* Lo fusionaremos más adelante para trabajar el `EDA`"
   ]
  },
  {
   "cell_type": "markdown",
   "id": "f985ab95",
   "metadata": {},
   "source": [
    "#### `Penetracion del internet`"
   ]
  },
  {
   "cell_type": "code",
   "execution_count": 27,
   "id": "b686917b",
   "metadata": {},
   "outputs": [
    {
     "data": {
      "text/html": [
       "<div>\n",
       "<style scoped>\n",
       "    .dataframe tbody tr th:only-of-type {\n",
       "        vertical-align: middle;\n",
       "    }\n",
       "\n",
       "    .dataframe tbody tr th {\n",
       "        vertical-align: top;\n",
       "    }\n",
       "\n",
       "    .dataframe thead th {\n",
       "        text-align: right;\n",
       "    }\n",
       "</style>\n",
       "<table border=\"1\" class=\"dataframe\">\n",
       "  <thead>\n",
       "    <tr style=\"text-align: right;\">\n",
       "      <th></th>\n",
       "      <th>Año</th>\n",
       "      <th>Trimestre</th>\n",
       "      <th>Provincia</th>\n",
       "      <th>Accesos por cada 100 hogares</th>\n",
       "      <th>Unnamed: 4</th>\n",
       "      <th>Unnamed: 5</th>\n",
       "      <th>Unnamed: 6</th>\n",
       "    </tr>\n",
       "  </thead>\n",
       "  <tbody>\n",
       "    <tr>\n",
       "      <th>0</th>\n",
       "      <td>2022</td>\n",
       "      <td>4</td>\n",
       "      <td>Buenos Aires</td>\n",
       "      <td>78,94</td>\n",
       "      <td>NaN</td>\n",
       "      <td>NaN</td>\n",
       "      <td>NaN</td>\n",
       "    </tr>\n",
       "    <tr>\n",
       "      <th>1</th>\n",
       "      <td>2022</td>\n",
       "      <td>4</td>\n",
       "      <td>Capital Federal</td>\n",
       "      <td>122,73</td>\n",
       "      <td>NaN</td>\n",
       "      <td>NaN</td>\n",
       "      <td>NaN</td>\n",
       "    </tr>\n",
       "    <tr>\n",
       "      <th>2</th>\n",
       "      <td>2022</td>\n",
       "      <td>4</td>\n",
       "      <td>Catamarca</td>\n",
       "      <td>65,77</td>\n",
       "      <td>NaN</td>\n",
       "      <td>NaN</td>\n",
       "      <td>NaN</td>\n",
       "    </tr>\n",
       "    <tr>\n",
       "      <th>3</th>\n",
       "      <td>2022</td>\n",
       "      <td>4</td>\n",
       "      <td>Chaco</td>\n",
       "      <td>43,62</td>\n",
       "      <td>NaN</td>\n",
       "      <td>NaN</td>\n",
       "      <td>NaN</td>\n",
       "    </tr>\n",
       "    <tr>\n",
       "      <th>4</th>\n",
       "      <td>2022</td>\n",
       "      <td>4</td>\n",
       "      <td>Chubut</td>\n",
       "      <td>85,57</td>\n",
       "      <td>NaN</td>\n",
       "      <td>NaN</td>\n",
       "      <td>NaN</td>\n",
       "    </tr>\n",
       "  </tbody>\n",
       "</table>\n",
       "</div>"
      ],
      "text/plain": [
       "    Año  Trimestre        Provincia Accesos por cada 100 hogares  Unnamed: 4  \\\n",
       "0  2022          4     Buenos Aires                        78,94         NaN   \n",
       "1  2022          4  Capital Federal                       122,73         NaN   \n",
       "2  2022          4        Catamarca                        65,77         NaN   \n",
       "3  2022          4            Chaco                        43,62         NaN   \n",
       "4  2022          4           Chubut                        85,57         NaN   \n",
       "\n",
       "   Unnamed: 5  Unnamed: 6  \n",
       "0         NaN         NaN  \n",
       "1         NaN         NaN  \n",
       "2         NaN         NaN  \n",
       "3         NaN         NaN  \n",
       "4         NaN         NaN  "
      ]
     },
     "execution_count": 27,
     "metadata": {},
     "output_type": "execute_result"
    }
   ],
   "source": [
    "# Abrimos el dataset\n",
    "df9 = pd.read_csv('../data/Internet_Penetracion.csv')\n",
    "df9.head()"
   ]
  },
  {
   "cell_type": "code",
   "execution_count": 28,
   "id": "311b10c3",
   "metadata": {},
   "outputs": [
    {
     "name": "stdout",
     "output_type": "stream",
     "text": [
      "<class 'pandas.core.frame.DataFrame'>\n",
      "RangeIndex: 864 entries, 0 to 863\n",
      "Data columns (total 7 columns):\n",
      " #   Column                        Non-Null Count  Dtype  \n",
      "---  ------                        --------------  -----  \n",
      " 0   Año                           864 non-null    int64  \n",
      " 1   Trimestre                     864 non-null    int64  \n",
      " 2   Provincia                     864 non-null    object \n",
      " 3   Accesos por cada 100 hogares  864 non-null    object \n",
      " 4   Unnamed: 4                    0 non-null      float64\n",
      " 5   Unnamed: 5                    0 non-null      float64\n",
      " 6   Unnamed: 6                    0 non-null      float64\n",
      "dtypes: float64(3), int64(2), object(2)\n",
      "memory usage: 47.4+ KB\n"
     ]
    }
   ],
   "source": [
    "# Vemos la columna 'Accesos por cada 100 hogares' con valores separados por coma,\n",
    "# como 'object' que posiblemente sea 'float'\n",
    "df9.info()"
   ]
  },
  {
   "cell_type": "code",
   "execution_count": 29,
   "id": "653fb097",
   "metadata": {},
   "outputs": [
    {
     "data": {
      "text/html": [
       "<div>\n",
       "<style scoped>\n",
       "    .dataframe tbody tr th:only-of-type {\n",
       "        vertical-align: middle;\n",
       "    }\n",
       "\n",
       "    .dataframe tbody tr th {\n",
       "        vertical-align: top;\n",
       "    }\n",
       "\n",
       "    .dataframe thead th {\n",
       "        text-align: right;\n",
       "    }\n",
       "</style>\n",
       "<table border=\"1\" class=\"dataframe\">\n",
       "  <thead>\n",
       "    <tr style=\"text-align: right;\">\n",
       "      <th></th>\n",
       "      <th>Año</th>\n",
       "      <th>Trimestre</th>\n",
       "      <th>Provincia</th>\n",
       "      <th>Accesos por cada 100 hogares</th>\n",
       "      <th>Unnamed: 4</th>\n",
       "      <th>Unnamed: 5</th>\n",
       "      <th>Unnamed: 6</th>\n",
       "    </tr>\n",
       "  </thead>\n",
       "  <tbody>\n",
       "    <tr>\n",
       "      <th>0</th>\n",
       "      <td>2022</td>\n",
       "      <td>4</td>\n",
       "      <td>Buenos Aires</td>\n",
       "      <td>78.94</td>\n",
       "      <td>NaN</td>\n",
       "      <td>NaN</td>\n",
       "      <td>NaN</td>\n",
       "    </tr>\n",
       "    <tr>\n",
       "      <th>1</th>\n",
       "      <td>2022</td>\n",
       "      <td>4</td>\n",
       "      <td>Capital Federal</td>\n",
       "      <td>122.73</td>\n",
       "      <td>NaN</td>\n",
       "      <td>NaN</td>\n",
       "      <td>NaN</td>\n",
       "    </tr>\n",
       "    <tr>\n",
       "      <th>2</th>\n",
       "      <td>2022</td>\n",
       "      <td>4</td>\n",
       "      <td>Catamarca</td>\n",
       "      <td>65.77</td>\n",
       "      <td>NaN</td>\n",
       "      <td>NaN</td>\n",
       "      <td>NaN</td>\n",
       "    </tr>\n",
       "    <tr>\n",
       "      <th>3</th>\n",
       "      <td>2022</td>\n",
       "      <td>4</td>\n",
       "      <td>Chaco</td>\n",
       "      <td>43.62</td>\n",
       "      <td>NaN</td>\n",
       "      <td>NaN</td>\n",
       "      <td>NaN</td>\n",
       "    </tr>\n",
       "    <tr>\n",
       "      <th>4</th>\n",
       "      <td>2022</td>\n",
       "      <td>4</td>\n",
       "      <td>Chubut</td>\n",
       "      <td>85.57</td>\n",
       "      <td>NaN</td>\n",
       "      <td>NaN</td>\n",
       "      <td>NaN</td>\n",
       "    </tr>\n",
       "  </tbody>\n",
       "</table>\n",
       "</div>"
      ],
      "text/plain": [
       "    Año  Trimestre        Provincia  Accesos por cada 100 hogares  Unnamed: 4  \\\n",
       "0  2022          4     Buenos Aires                         78.94         NaN   \n",
       "1  2022          4  Capital Federal                        122.73         NaN   \n",
       "2  2022          4        Catamarca                         65.77         NaN   \n",
       "3  2022          4            Chaco                         43.62         NaN   \n",
       "4  2022          4           Chubut                         85.57         NaN   \n",
       "\n",
       "   Unnamed: 5  Unnamed: 6  \n",
       "0         NaN         NaN  \n",
       "1         NaN         NaN  \n",
       "2         NaN         NaN  \n",
       "3         NaN         NaN  \n",
       "4         NaN         NaN  "
      ]
     },
     "execution_count": 29,
     "metadata": {},
     "output_type": "execute_result"
    }
   ],
   "source": [
    "# Re-abrimos el dataset con el parámetro \"decimal=','\"\n",
    "df9 = pd.read_csv('../data/Internet_Penetracion.csv',decimal=',')\n",
    "df9.head()"
   ]
  },
  {
   "cell_type": "code",
   "execution_count": 30,
   "id": "84b6d949",
   "metadata": {},
   "outputs": [
    {
     "name": "stdout",
     "output_type": "stream",
     "text": [
      "<class 'pandas.core.frame.DataFrame'>\n",
      "RangeIndex: 864 entries, 0 to 863\n",
      "Data columns (total 7 columns):\n",
      " #   Column                        Non-Null Count  Dtype  \n",
      "---  ------                        --------------  -----  \n",
      " 0   Año                           864 non-null    int64  \n",
      " 1   Trimestre                     864 non-null    int64  \n",
      " 2   Provincia                     864 non-null    object \n",
      " 3   Accesos por cada 100 hogares  864 non-null    float64\n",
      " 4   Unnamed: 4                    0 non-null      float64\n",
      " 5   Unnamed: 5                    0 non-null      float64\n",
      " 6   Unnamed: 6                    0 non-null      float64\n",
      "dtypes: float64(4), int64(2), object(1)\n",
      "memory usage: 47.4+ KB\n"
     ]
    }
   ],
   "source": [
    "# Veamos ahora el tipo de dato de la columna: 'Accesos por cada 100 hogares',\n",
    "# y efectivamente ha cambiado a 'float'\n",
    "df9.info()"
   ]
  },
  {
   "cell_type": "code",
   "execution_count": 31,
   "id": "f080c38e",
   "metadata": {},
   "outputs": [],
   "source": [
    "# Ahora eliminamos las columnas con puros valores nulos\n",
    "df9 = df9.drop(['Unnamed: 4','Unnamed: 5','Unnamed: 6'],axis=1)"
   ]
  },
  {
   "cell_type": "code",
   "execution_count": 32,
   "id": "c526a5c0",
   "metadata": {},
   "outputs": [
    {
     "name": "stdout",
     "output_type": "stream",
     "text": [
      "<class 'pandas.core.frame.DataFrame'>\n",
      "RangeIndex: 864 entries, 0 to 863\n",
      "Data columns (total 4 columns):\n",
      " #   Column                        Non-Null Count  Dtype  \n",
      "---  ------                        --------------  -----  \n",
      " 0   Año                           864 non-null    int64  \n",
      " 1   Trimestre                     864 non-null    int64  \n",
      " 2   Provincia                     864 non-null    object \n",
      " 3   Accesos por cada 100 hogares  864 non-null    float64\n",
      "dtypes: float64(1), int64(2), object(1)\n",
      "memory usage: 27.1+ KB\n"
     ]
    }
   ],
   "source": [
    "# Verificamos el resultado\n",
    "df9.info()"
   ]
  },
  {
   "cell_type": "code",
   "execution_count": 33,
   "id": "1c699f5e",
   "metadata": {},
   "outputs": [],
   "source": [
    "# Salvamos el dataset como 'Penetracion_internet.csv'\n",
    "#df9.to_csv('Penetracion_internet.csv',index=False)"
   ]
  },
  {
   "cell_type": "markdown",
   "id": "cb023720",
   "metadata": {},
   "source": [
    "#### Resumen: `Penetracion del internet`\n",
    "* Limpiamos el dataset reduciendo a `4 columnas y 864 registros.`\n",
    "* Salvamos el dataset como `Penetracion_internet.csv`\n",
    "* Lo reservamos para usar en `PowerBI`\n",
    "* Lo fusionaremos más adelante para trabajar el `EDA`"
   ]
  },
  {
   "cell_type": "markdown",
   "id": "a54cc5c7",
   "metadata": {},
   "source": [
    "#### `Telefonía fija`"
   ]
  },
  {
   "cell_type": "code",
   "execution_count": 37,
   "id": "2ad080ab",
   "metadata": {},
   "outputs": [
    {
     "data": {
      "text/html": [
       "<div>\n",
       "<style scoped>\n",
       "    .dataframe tbody tr th:only-of-type {\n",
       "        vertical-align: middle;\n",
       "    }\n",
       "\n",
       "    .dataframe tbody tr th {\n",
       "        vertical-align: top;\n",
       "    }\n",
       "\n",
       "    .dataframe thead th {\n",
       "        text-align: right;\n",
       "    }\n",
       "</style>\n",
       "<table border=\"1\" class=\"dataframe\">\n",
       "  <thead>\n",
       "    <tr style=\"text-align: right;\">\n",
       "      <th></th>\n",
       "      <th>Año</th>\n",
       "      <th>Trimestre</th>\n",
       "      <th>Provincia</th>\n",
       "      <th>Accesos telefonía fija por cada 100 hab</th>\n",
       "      <th>Accesos telefonía fija por cada 100 hogares</th>\n",
       "    </tr>\n",
       "  </thead>\n",
       "  <tbody>\n",
       "    <tr>\n",
       "      <th>0</th>\n",
       "      <td>2014</td>\n",
       "      <td>1</td>\n",
       "      <td>Buenos Aires</td>\n",
       "      <td>2.672</td>\n",
       "      <td>8.526</td>\n",
       "    </tr>\n",
       "    <tr>\n",
       "      <th>1</th>\n",
       "      <td>2014</td>\n",
       "      <td>1</td>\n",
       "      <td>Capital Federal</td>\n",
       "      <td>5.266</td>\n",
       "      <td>12.857</td>\n",
       "    </tr>\n",
       "    <tr>\n",
       "      <th>2</th>\n",
       "      <td>2014</td>\n",
       "      <td>1</td>\n",
       "      <td>Catamarca</td>\n",
       "      <td>1.003</td>\n",
       "      <td>3.945</td>\n",
       "    </tr>\n",
       "    <tr>\n",
       "      <th>3</th>\n",
       "      <td>2014</td>\n",
       "      <td>1</td>\n",
       "      <td>Chaco</td>\n",
       "      <td>909.000</td>\n",
       "      <td>3.402</td>\n",
       "    </tr>\n",
       "    <tr>\n",
       "      <th>4</th>\n",
       "      <td>2014</td>\n",
       "      <td>1</td>\n",
       "      <td>Chubut</td>\n",
       "      <td>1.766</td>\n",
       "      <td>5.759</td>\n",
       "    </tr>\n",
       "  </tbody>\n",
       "</table>\n",
       "</div>"
      ],
      "text/plain": [
       "    Año  Trimestre        Provincia  Accesos telefonía fija por cada 100 hab  \\\n",
       "0  2014          1     Buenos Aires                                    2.672   \n",
       "1  2014          1  Capital Federal                                    5.266   \n",
       "2  2014          1        Catamarca                                    1.003   \n",
       "3  2014          1            Chaco                                  909.000   \n",
       "4  2014          1           Chubut                                    1.766   \n",
       "\n",
       "   Accesos telefonía fija por cada 100 hogares  \n",
       "0                                        8.526  \n",
       "1                                       12.857  \n",
       "2                                        3.945  \n",
       "3                                        3.402  \n",
       "4                                        5.759  "
      ]
     },
     "execution_count": 37,
     "metadata": {},
     "output_type": "execute_result"
    }
   ],
   "source": [
    "df11 = pd.read_csv('../data/telefonia_fija.csv')\n",
    "df11.head()"
   ]
  },
  {
   "cell_type": "code",
   "execution_count": 38,
   "id": "3e30799d",
   "metadata": {},
   "outputs": [
    {
     "name": "stdout",
     "output_type": "stream",
     "text": [
      "<class 'pandas.core.frame.DataFrame'>\n",
      "RangeIndex: 864 entries, 0 to 863\n",
      "Data columns (total 5 columns):\n",
      " #   Column                                       Non-Null Count  Dtype  \n",
      "---  ------                                       --------------  -----  \n",
      " 0   Año                                          864 non-null    int64  \n",
      " 1   Trimestre                                    864 non-null    int64  \n",
      " 2   Provincia                                    864 non-null    object \n",
      " 3   Accesos telefonía fija por cada 100 hab      864 non-null    float64\n",
      " 4   Accesos telefonía fija por cada 100 hogares  864 non-null    float64\n",
      "dtypes: float64(2), int64(2), object(1)\n",
      "memory usage: 33.9+ KB\n"
     ]
    }
   ],
   "source": [
    "df11.info()"
   ]
  },
  {
   "cell_type": "code",
   "execution_count": 39,
   "id": "11f40d50",
   "metadata": {},
   "outputs": [],
   "source": [
    "df11 = df11.drop(['Accesos telefonía fija por cada 100 hab'],axis=1)"
   ]
  },
  {
   "cell_type": "code",
   "execution_count": 40,
   "id": "3ba7a62b",
   "metadata": {},
   "outputs": [
    {
     "data": {
      "text/html": [
       "<div>\n",
       "<style scoped>\n",
       "    .dataframe tbody tr th:only-of-type {\n",
       "        vertical-align: middle;\n",
       "    }\n",
       "\n",
       "    .dataframe tbody tr th {\n",
       "        vertical-align: top;\n",
       "    }\n",
       "\n",
       "    .dataframe thead th {\n",
       "        text-align: right;\n",
       "    }\n",
       "</style>\n",
       "<table border=\"1\" class=\"dataframe\">\n",
       "  <thead>\n",
       "    <tr style=\"text-align: right;\">\n",
       "      <th></th>\n",
       "      <th>Año</th>\n",
       "      <th>Trimestre</th>\n",
       "      <th>Provincia</th>\n",
       "      <th>Accesos telefonía fija por cada 100 hogares</th>\n",
       "    </tr>\n",
       "  </thead>\n",
       "  <tbody>\n",
       "    <tr>\n",
       "      <th>0</th>\n",
       "      <td>2014</td>\n",
       "      <td>1</td>\n",
       "      <td>Buenos Aires</td>\n",
       "      <td>8.526</td>\n",
       "    </tr>\n",
       "    <tr>\n",
       "      <th>1</th>\n",
       "      <td>2014</td>\n",
       "      <td>1</td>\n",
       "      <td>Capital Federal</td>\n",
       "      <td>12.857</td>\n",
       "    </tr>\n",
       "    <tr>\n",
       "      <th>2</th>\n",
       "      <td>2014</td>\n",
       "      <td>1</td>\n",
       "      <td>Catamarca</td>\n",
       "      <td>3.945</td>\n",
       "    </tr>\n",
       "    <tr>\n",
       "      <th>3</th>\n",
       "      <td>2014</td>\n",
       "      <td>1</td>\n",
       "      <td>Chaco</td>\n",
       "      <td>3.402</td>\n",
       "    </tr>\n",
       "    <tr>\n",
       "      <th>4</th>\n",
       "      <td>2014</td>\n",
       "      <td>1</td>\n",
       "      <td>Chubut</td>\n",
       "      <td>5.759</td>\n",
       "    </tr>\n",
       "  </tbody>\n",
       "</table>\n",
       "</div>"
      ],
      "text/plain": [
       "    Año  Trimestre        Provincia  \\\n",
       "0  2014          1     Buenos Aires   \n",
       "1  2014          1  Capital Federal   \n",
       "2  2014          1        Catamarca   \n",
       "3  2014          1            Chaco   \n",
       "4  2014          1           Chubut   \n",
       "\n",
       "   Accesos telefonía fija por cada 100 hogares  \n",
       "0                                        8.526  \n",
       "1                                       12.857  \n",
       "2                                        3.945  \n",
       "3                                        3.402  \n",
       "4                                        5.759  "
      ]
     },
     "execution_count": 40,
     "metadata": {},
     "output_type": "execute_result"
    }
   ],
   "source": [
    "df11.head()"
   ]
  },
  {
   "cell_type": "code",
   "execution_count": 41,
   "id": "e7e5fbc7",
   "metadata": {},
   "outputs": [],
   "source": [
    "# Salvamos el dataset como\n",
    "#df11.to_csv('Telefonia.csv',index=False)"
   ]
  },
  {
   "cell_type": "markdown",
   "id": "739b038b",
   "metadata": {},
   "source": [
    "#### Resumen: `Telefonía fija`\n",
    "* Limpiamos el dataset reduciendo a `4 columnas y 864 registros.`\n",
    "* Salvamos el dataset como `Telefonia.csv`\n",
    "* Lo reservamos para usar en `PowerBI`\n",
    "* Lo fusionaremos más adelante para trabajar el `EDA`"
   ]
  },
  {
   "cell_type": "markdown",
   "id": "50f1a815",
   "metadata": {},
   "source": [
    "\n",
    "<h4 align='right'><i>Pag. 1</i></h4>"
   ]
  }
 ],
 "metadata": {
  "kernelspec": {
   "display_name": "Python 3 (ipykernel)",
   "language": "python",
   "name": "python3"
  },
  "language_info": {
   "codemirror_mode": {
    "name": "ipython",
    "version": 3
   },
   "file_extension": ".py",
   "mimetype": "text/x-python",
   "name": "python",
   "nbconvert_exporter": "python",
   "pygments_lexer": "ipython3",
   "version": "3.11.3"
  }
 },
 "nbformat": 4,
 "nbformat_minor": 5
}
