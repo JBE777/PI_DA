{
 "cells": [
  {
   "cell_type": "markdown",
   "id": "6dfa0e31",
   "metadata": {},
   "source": [
    "<h1 align='center'>Proyecto Individual 2</h1>\n",
    "<h3 align='center'><i>Telecomunicaciones</i></h3>\n",
    "<h4 align='center'>Cohorte:DataPT04</h4>"
   ]
  },
  {
   "cell_type": "markdown",
   "id": "b13eb210",
   "metadata": {},
   "source": [
    "# `ETL`: **`Extracción, transformación y carga de datos`**\n",
    "- *Buscamos en el sitio ENACOM - Ente Nacional de Comunicaciones de Argentina.*\n",
    "- *Encontrando algunos archivos interesantes de internet y telefonía fija.*\n",
    "##### `Primero, partimos de los archivos de trabajo:`\n",
    "1. *`Internet_Accesos-por-tecnologia.csv`*\n",
    "2. *`Internet_Ingresos.csv`*\n",
    "3. *`Internet_Penetracion.csv`*\n",
    "4. *`telefonia_fija.csv`*\n",
    "##### `Segundo, creamos los siguientes datasets y son enviados al archivo dataset:`\n",
    "1. *`Tecnologia.csv`*\n",
    "2. *`Ingresos.csv`*\n",
    "3. *`Penetracion_internet.csv`*\n",
    "4. *`Telefonia_Fija.csv`*\n",
    "##### `Por último, se crea Internet.csv con la fusion de los primeros 3 datasets creados y es anexado al archivo dataset`:\n",
    "1. *`Internet.csv`*\n",
    "2. *`Telefonia_Fija.csv`*"
   ]
  },
  {
   "cell_type": "code",
   "execution_count": 1,
   "id": "5b8b4d60",
   "metadata": {},
   "outputs": [],
   "source": [
    "# Importamos la libreria que necesitamos para abrir los archivos\n",
    "import pandas as pd"
   ]
  },
  {
   "cell_type": "markdown",
   "id": "ecdf1300",
   "metadata": {},
   "source": [
    "#### `Acceso a Internet por tecnología`"
   ]
  },
  {
   "cell_type": "code",
   "execution_count": 2,
   "id": "2811403c",
   "metadata": {},
   "outputs": [
    {
     "data": {
      "text/html": [
       "<div>\n",
       "<style scoped>\n",
       "    .dataframe tbody tr th:only-of-type {\n",
       "        vertical-align: middle;\n",
       "    }\n",
       "\n",
       "    .dataframe tbody tr th {\n",
       "        vertical-align: top;\n",
       "    }\n",
       "\n",
       "    .dataframe thead th {\n",
       "        text-align: right;\n",
       "    }\n",
       "</style>\n",
       "<table border=\"1\" class=\"dataframe\">\n",
       "  <thead>\n",
       "    <tr style=\"text-align: right;\">\n",
       "      <th></th>\n",
       "      <th>Año</th>\n",
       "      <th>Trimestre</th>\n",
       "      <th>ADSL</th>\n",
       "      <th>Cablemodem</th>\n",
       "      <th>Fibra óptica</th>\n",
       "      <th>Wireless</th>\n",
       "      <th>Otros</th>\n",
       "      <th>Total</th>\n",
       "      <th>Periodo</th>\n",
       "    </tr>\n",
       "  </thead>\n",
       "  <tbody>\n",
       "    <tr>\n",
       "      <th>0</th>\n",
       "      <td>2022</td>\n",
       "      <td>4</td>\n",
       "      <td>1</td>\n",
       "      <td>6</td>\n",
       "      <td>3</td>\n",
       "      <td>573</td>\n",
       "      <td>222</td>\n",
       "      <td>11</td>\n",
       "      <td>Oct-Dic 2022</td>\n",
       "    </tr>\n",
       "    <tr>\n",
       "      <th>1</th>\n",
       "      <td>2022</td>\n",
       "      <td>3</td>\n",
       "      <td>1</td>\n",
       "      <td>6</td>\n",
       "      <td>3</td>\n",
       "      <td>557</td>\n",
       "      <td>235</td>\n",
       "      <td>11</td>\n",
       "      <td>Jul-Sept 2022</td>\n",
       "    </tr>\n",
       "  </tbody>\n",
       "</table>\n",
       "</div>"
      ],
      "text/plain": [
       "    Año  Trimestre  ADSL  Cablemodem  Fibra óptica  Wireless  Otros  Total  \\\n",
       "0  2022          4     1           6             3       573    222     11   \n",
       "1  2022          3     1           6             3       557    235     11   \n",
       "\n",
       "         Periodo  \n",
       "0   Oct-Dic 2022  \n",
       "1  Jul-Sept 2022  "
      ]
     },
     "execution_count": 2,
     "metadata": {},
     "output_type": "execute_result"
    }
   ],
   "source": [
    "# Abrimos el dataset\n",
    "df1 = pd.read_csv('../data/Internet_Accesos-por-tecnologia.csv')\n",
    "df1.head(2)"
   ]
  },
  {
   "cell_type": "code",
   "execution_count": 3,
   "id": "e9c6fbc0",
   "metadata": {},
   "outputs": [],
   "source": [
    "# Elimino las columnas no definidas y las que no coindicen\n",
    "df1 = df1.drop(['Otros','Total'],axis=1)"
   ]
  },
  {
   "cell_type": "code",
   "execution_count": 4,
   "id": "da10ef33",
   "metadata": {},
   "outputs": [
    {
     "data": {
      "text/html": [
       "<div>\n",
       "<style scoped>\n",
       "    .dataframe tbody tr th:only-of-type {\n",
       "        vertical-align: middle;\n",
       "    }\n",
       "\n",
       "    .dataframe tbody tr th {\n",
       "        vertical-align: top;\n",
       "    }\n",
       "\n",
       "    .dataframe thead th {\n",
       "        text-align: right;\n",
       "    }\n",
       "</style>\n",
       "<table border=\"1\" class=\"dataframe\">\n",
       "  <thead>\n",
       "    <tr style=\"text-align: right;\">\n",
       "      <th></th>\n",
       "      <th>Año</th>\n",
       "      <th>Trimestre</th>\n",
       "      <th>ADSL</th>\n",
       "      <th>Cablemodem</th>\n",
       "      <th>Fibra óptica</th>\n",
       "      <th>Wireless</th>\n",
       "      <th>Periodo</th>\n",
       "    </tr>\n",
       "  </thead>\n",
       "  <tbody>\n",
       "    <tr>\n",
       "      <th>0</th>\n",
       "      <td>2022</td>\n",
       "      <td>4</td>\n",
       "      <td>1</td>\n",
       "      <td>6</td>\n",
       "      <td>3</td>\n",
       "      <td>573</td>\n",
       "      <td>Oct-Dic 2022</td>\n",
       "    </tr>\n",
       "    <tr>\n",
       "      <th>1</th>\n",
       "      <td>2022</td>\n",
       "      <td>3</td>\n",
       "      <td>1</td>\n",
       "      <td>6</td>\n",
       "      <td>3</td>\n",
       "      <td>557</td>\n",
       "      <td>Jul-Sept 2022</td>\n",
       "    </tr>\n",
       "    <tr>\n",
       "      <th>2</th>\n",
       "      <td>2022</td>\n",
       "      <td>2</td>\n",
       "      <td>1</td>\n",
       "      <td>6</td>\n",
       "      <td>3</td>\n",
       "      <td>556</td>\n",
       "      <td>Abr-Jun 2022</td>\n",
       "    </tr>\n",
       "    <tr>\n",
       "      <th>3</th>\n",
       "      <td>2022</td>\n",
       "      <td>1</td>\n",
       "      <td>2</td>\n",
       "      <td>6</td>\n",
       "      <td>2</td>\n",
       "      <td>546</td>\n",
       "      <td>Ene-Mar 2022</td>\n",
       "    </tr>\n",
       "    <tr>\n",
       "      <th>4</th>\n",
       "      <td>2021</td>\n",
       "      <td>4</td>\n",
       "      <td>2</td>\n",
       "      <td>6</td>\n",
       "      <td>2</td>\n",
       "      <td>523</td>\n",
       "      <td>Oct-Dic 2021</td>\n",
       "    </tr>\n",
       "  </tbody>\n",
       "</table>\n",
       "</div>"
      ],
      "text/plain": [
       "    Año  Trimestre  ADSL  Cablemodem  Fibra óptica  Wireless        Periodo\n",
       "0  2022          4     1           6             3       573   Oct-Dic 2022\n",
       "1  2022          3     1           6             3       557  Jul-Sept 2022\n",
       "2  2022          2     1           6             3       556   Abr-Jun 2022\n",
       "3  2022          1     2           6             2       546   Ene-Mar 2022\n",
       "4  2021          4     2           6             2       523   Oct-Dic 2021"
      ]
     },
     "execution_count": 4,
     "metadata": {},
     "output_type": "execute_result"
    }
   ],
   "source": [
    "# Verificamos el resultado\n",
    "df1.head()"
   ]
  },
  {
   "cell_type": "code",
   "execution_count": 5,
   "id": "f92af999",
   "metadata": {},
   "outputs": [
    {
     "name": "stdout",
     "output_type": "stream",
     "text": [
      "<class 'pandas.core.frame.DataFrame'>\n",
      "RangeIndex: 36 entries, 0 to 35\n",
      "Data columns (total 7 columns):\n",
      " #   Column        Non-Null Count  Dtype \n",
      "---  ------        --------------  ----- \n",
      " 0   Año           36 non-null     int64 \n",
      " 1   Trimestre     36 non-null     int64 \n",
      " 2   ADSL          36 non-null     int64 \n",
      " 3   Cablemodem    36 non-null     int64 \n",
      " 4   Fibra óptica  36 non-null     int64 \n",
      " 5   Wireless      36 non-null     int64 \n",
      " 6   Periodo       36 non-null     object\n",
      "dtypes: int64(6), object(1)\n",
      "memory usage: 2.1+ KB\n"
     ]
    }
   ],
   "source": [
    "# Checamos tipo de dato y registros\n",
    "df1.info()"
   ]
  },
  {
   "cell_type": "code",
   "execution_count": 6,
   "id": "44c98c3e",
   "metadata": {},
   "outputs": [],
   "source": [
    "# Salvamos como dataset 'Tecnologia.csv'\n",
    "#df1.to_csv('Tecnologia.csv',index=False)"
   ]
  },
  {
   "cell_type": "markdown",
   "id": "05661d0c",
   "metadata": {},
   "source": [
    "#### Resumen: `Acceso a Internet por tecnología`\n",
    "* Limpiamos el dataset reduciendo a `7 columnas y 36 registros.`\n",
    "* Salvamos el dataset como `Tecnologia.csv`\n",
    "* Lo fusionaremos más adelante para trabajar el `EDA`"
   ]
  },
  {
   "cell_type": "markdown",
   "id": "641793c6",
   "metadata": {},
   "source": [
    "#### `Ingresos en internet`"
   ]
  },
  {
   "cell_type": "code",
   "execution_count": 7,
   "id": "4d12a0c9",
   "metadata": {},
   "outputs": [
    {
     "data": {
      "text/html": [
       "<div>\n",
       "<style scoped>\n",
       "    .dataframe tbody tr th:only-of-type {\n",
       "        vertical-align: middle;\n",
       "    }\n",
       "\n",
       "    .dataframe tbody tr th {\n",
       "        vertical-align: top;\n",
       "    }\n",
       "\n",
       "    .dataframe thead th {\n",
       "        text-align: right;\n",
       "    }\n",
       "</style>\n",
       "<table border=\"1\" class=\"dataframe\">\n",
       "  <thead>\n",
       "    <tr style=\"text-align: right;\">\n",
       "      <th></th>\n",
       "      <th>Año</th>\n",
       "      <th>Trimestre</th>\n",
       "      <th>Ingresos (miles de pesos)</th>\n",
       "      <th>Periodo</th>\n",
       "    </tr>\n",
       "  </thead>\n",
       "  <tbody>\n",
       "    <tr>\n",
       "      <th>0</th>\n",
       "      <td>2022</td>\n",
       "      <td>4</td>\n",
       "      <td>72</td>\n",
       "      <td>Oct-Dic 2022</td>\n",
       "    </tr>\n",
       "    <tr>\n",
       "      <th>1</th>\n",
       "      <td>2022</td>\n",
       "      <td>3</td>\n",
       "      <td>64</td>\n",
       "      <td>Jul-Sept 2022</td>\n",
       "    </tr>\n",
       "    <tr>\n",
       "      <th>2</th>\n",
       "      <td>2022</td>\n",
       "      <td>2</td>\n",
       "      <td>60</td>\n",
       "      <td>Abr-Jun 2022</td>\n",
       "    </tr>\n",
       "    <tr>\n",
       "      <th>3</th>\n",
       "      <td>2022</td>\n",
       "      <td>1</td>\n",
       "      <td>55</td>\n",
       "      <td>Ene-Mar 2022</td>\n",
       "    </tr>\n",
       "    <tr>\n",
       "      <th>4</th>\n",
       "      <td>2021</td>\n",
       "      <td>4</td>\n",
       "      <td>45</td>\n",
       "      <td>Oct-Dic 2021</td>\n",
       "    </tr>\n",
       "  </tbody>\n",
       "</table>\n",
       "</div>"
      ],
      "text/plain": [
       "    Año  Trimestre  Ingresos (miles de pesos)        Periodo\n",
       "0  2022          4                         72   Oct-Dic 2022\n",
       "1  2022          3                         64  Jul-Sept 2022\n",
       "2  2022          2                         60   Abr-Jun 2022\n",
       "3  2022          1                         55   Ene-Mar 2022\n",
       "4  2021          4                         45   Oct-Dic 2021"
      ]
     },
     "execution_count": 7,
     "metadata": {},
     "output_type": "execute_result"
    }
   ],
   "source": [
    "df2 = pd.read_csv('../data/Internet_Ingresos.csv')\n",
    "df2.head()"
   ]
  },
  {
   "cell_type": "code",
   "execution_count": 8,
   "id": "556e0d5f",
   "metadata": {},
   "outputs": [
    {
     "name": "stdout",
     "output_type": "stream",
     "text": [
      "<class 'pandas.core.frame.DataFrame'>\n",
      "RangeIndex: 36 entries, 0 to 35\n",
      "Data columns (total 4 columns):\n",
      " #   Column                     Non-Null Count  Dtype \n",
      "---  ------                     --------------  ----- \n",
      " 0   Año                        36 non-null     int64 \n",
      " 1   Trimestre                  36 non-null     int64 \n",
      " 2   Ingresos (miles de pesos)  36 non-null     int64 \n",
      " 3   Periodo                    36 non-null     object\n",
      "dtypes: int64(3), object(1)\n",
      "memory usage: 1.3+ KB\n"
     ]
    }
   ],
   "source": [
    "# Verificamos registros, columnas y tipos de dato\n",
    "df2.info()"
   ]
  },
  {
   "cell_type": "code",
   "execution_count": 9,
   "id": "4cab3829",
   "metadata": {},
   "outputs": [],
   "source": [
    "# Salvamos el dataset como 'Ingresos.csv'\n",
    "#df2.to_csv('Ingresos.csv',index=False)"
   ]
  },
  {
   "cell_type": "markdown",
   "id": "5fbe8a28",
   "metadata": {},
   "source": [
    "#### Resumen: `Ingresos en internet`\n",
    "* Limpiamos el dataset reduciendo a `4 columnas y 36 registros.`\n",
    "* Salvamos el dataset como `Ingresos.csv`\n",
    "* Lo fusionaremos más adelante para trabajar el `EDA`"
   ]
  },
  {
   "cell_type": "markdown",
   "id": "f985ab95",
   "metadata": {},
   "source": [
    "#### `Penetracion del internet`"
   ]
  },
  {
   "cell_type": "code",
   "execution_count": 10,
   "id": "b686917b",
   "metadata": {},
   "outputs": [
    {
     "data": {
      "text/html": [
       "<div>\n",
       "<style scoped>\n",
       "    .dataframe tbody tr th:only-of-type {\n",
       "        vertical-align: middle;\n",
       "    }\n",
       "\n",
       "    .dataframe tbody tr th {\n",
       "        vertical-align: top;\n",
       "    }\n",
       "\n",
       "    .dataframe thead th {\n",
       "        text-align: right;\n",
       "    }\n",
       "</style>\n",
       "<table border=\"1\" class=\"dataframe\">\n",
       "  <thead>\n",
       "    <tr style=\"text-align: right;\">\n",
       "      <th></th>\n",
       "      <th>Año</th>\n",
       "      <th>Trimestre</th>\n",
       "      <th>Provincia</th>\n",
       "      <th>Accesos por cada 100 hogares</th>\n",
       "      <th>Unnamed: 4</th>\n",
       "      <th>Unnamed: 5</th>\n",
       "      <th>Unnamed: 6</th>\n",
       "    </tr>\n",
       "  </thead>\n",
       "  <tbody>\n",
       "    <tr>\n",
       "      <th>0</th>\n",
       "      <td>2022</td>\n",
       "      <td>4</td>\n",
       "      <td>Buenos Aires</td>\n",
       "      <td>78,94</td>\n",
       "      <td>NaN</td>\n",
       "      <td>NaN</td>\n",
       "      <td>NaN</td>\n",
       "    </tr>\n",
       "    <tr>\n",
       "      <th>1</th>\n",
       "      <td>2022</td>\n",
       "      <td>4</td>\n",
       "      <td>Capital Federal</td>\n",
       "      <td>122,73</td>\n",
       "      <td>NaN</td>\n",
       "      <td>NaN</td>\n",
       "      <td>NaN</td>\n",
       "    </tr>\n",
       "    <tr>\n",
       "      <th>2</th>\n",
       "      <td>2022</td>\n",
       "      <td>4</td>\n",
       "      <td>Catamarca</td>\n",
       "      <td>65,77</td>\n",
       "      <td>NaN</td>\n",
       "      <td>NaN</td>\n",
       "      <td>NaN</td>\n",
       "    </tr>\n",
       "    <tr>\n",
       "      <th>3</th>\n",
       "      <td>2022</td>\n",
       "      <td>4</td>\n",
       "      <td>Chaco</td>\n",
       "      <td>43,62</td>\n",
       "      <td>NaN</td>\n",
       "      <td>NaN</td>\n",
       "      <td>NaN</td>\n",
       "    </tr>\n",
       "    <tr>\n",
       "      <th>4</th>\n",
       "      <td>2022</td>\n",
       "      <td>4</td>\n",
       "      <td>Chubut</td>\n",
       "      <td>85,57</td>\n",
       "      <td>NaN</td>\n",
       "      <td>NaN</td>\n",
       "      <td>NaN</td>\n",
       "    </tr>\n",
       "  </tbody>\n",
       "</table>\n",
       "</div>"
      ],
      "text/plain": [
       "    Año  Trimestre        Provincia Accesos por cada 100 hogares  Unnamed: 4  \\\n",
       "0  2022          4     Buenos Aires                        78,94         NaN   \n",
       "1  2022          4  Capital Federal                       122,73         NaN   \n",
       "2  2022          4        Catamarca                        65,77         NaN   \n",
       "3  2022          4            Chaco                        43,62         NaN   \n",
       "4  2022          4           Chubut                        85,57         NaN   \n",
       "\n",
       "   Unnamed: 5  Unnamed: 6  \n",
       "0         NaN         NaN  \n",
       "1         NaN         NaN  \n",
       "2         NaN         NaN  \n",
       "3         NaN         NaN  \n",
       "4         NaN         NaN  "
      ]
     },
     "execution_count": 10,
     "metadata": {},
     "output_type": "execute_result"
    }
   ],
   "source": [
    "# Abrimos el dataset\n",
    "df3 = pd.read_csv('../data/Internet_Penetracion.csv')\n",
    "df3.head()"
   ]
  },
  {
   "cell_type": "code",
   "execution_count": 11,
   "id": "81287b1e",
   "metadata": {},
   "outputs": [
    {
     "name": "stdout",
     "output_type": "stream",
     "text": [
      "<class 'pandas.core.frame.DataFrame'>\n",
      "RangeIndex: 864 entries, 0 to 863\n",
      "Data columns (total 7 columns):\n",
      " #   Column                        Non-Null Count  Dtype  \n",
      "---  ------                        --------------  -----  \n",
      " 0   Año                           864 non-null    int64  \n",
      " 1   Trimestre                     864 non-null    int64  \n",
      " 2   Provincia                     864 non-null    object \n",
      " 3   Accesos por cada 100 hogares  864 non-null    object \n",
      " 4   Unnamed: 4                    0 non-null      float64\n",
      " 5   Unnamed: 5                    0 non-null      float64\n",
      " 6   Unnamed: 6                    0 non-null      float64\n",
      "dtypes: float64(3), int64(2), object(2)\n",
      "memory usage: 47.4+ KB\n"
     ]
    }
   ],
   "source": [
    "# Vemos que la datos de la columna: 'Accesos por cada 100 hogares', aparentemente son 'object'\n",
    "# pero ellos lucen como 'float' y separado por coma.\n",
    "df3.info()"
   ]
  },
  {
   "cell_type": "code",
   "execution_count": 12,
   "id": "653fb097",
   "metadata": {},
   "outputs": [
    {
     "data": {
      "text/html": [
       "<div>\n",
       "<style scoped>\n",
       "    .dataframe tbody tr th:only-of-type {\n",
       "        vertical-align: middle;\n",
       "    }\n",
       "\n",
       "    .dataframe tbody tr th {\n",
       "        vertical-align: top;\n",
       "    }\n",
       "\n",
       "    .dataframe thead th {\n",
       "        text-align: right;\n",
       "    }\n",
       "</style>\n",
       "<table border=\"1\" class=\"dataframe\">\n",
       "  <thead>\n",
       "    <tr style=\"text-align: right;\">\n",
       "      <th></th>\n",
       "      <th>Año</th>\n",
       "      <th>Trimestre</th>\n",
       "      <th>Provincia</th>\n",
       "      <th>Accesos por cada 100 hogares</th>\n",
       "      <th>Unnamed: 4</th>\n",
       "      <th>Unnamed: 5</th>\n",
       "      <th>Unnamed: 6</th>\n",
       "    </tr>\n",
       "  </thead>\n",
       "  <tbody>\n",
       "    <tr>\n",
       "      <th>0</th>\n",
       "      <td>2022</td>\n",
       "      <td>4</td>\n",
       "      <td>Buenos Aires</td>\n",
       "      <td>78.94</td>\n",
       "      <td>NaN</td>\n",
       "      <td>NaN</td>\n",
       "      <td>NaN</td>\n",
       "    </tr>\n",
       "    <tr>\n",
       "      <th>1</th>\n",
       "      <td>2022</td>\n",
       "      <td>4</td>\n",
       "      <td>Capital Federal</td>\n",
       "      <td>122.73</td>\n",
       "      <td>NaN</td>\n",
       "      <td>NaN</td>\n",
       "      <td>NaN</td>\n",
       "    </tr>\n",
       "    <tr>\n",
       "      <th>2</th>\n",
       "      <td>2022</td>\n",
       "      <td>4</td>\n",
       "      <td>Catamarca</td>\n",
       "      <td>65.77</td>\n",
       "      <td>NaN</td>\n",
       "      <td>NaN</td>\n",
       "      <td>NaN</td>\n",
       "    </tr>\n",
       "    <tr>\n",
       "      <th>3</th>\n",
       "      <td>2022</td>\n",
       "      <td>4</td>\n",
       "      <td>Chaco</td>\n",
       "      <td>43.62</td>\n",
       "      <td>NaN</td>\n",
       "      <td>NaN</td>\n",
       "      <td>NaN</td>\n",
       "    </tr>\n",
       "    <tr>\n",
       "      <th>4</th>\n",
       "      <td>2022</td>\n",
       "      <td>4</td>\n",
       "      <td>Chubut</td>\n",
       "      <td>85.57</td>\n",
       "      <td>NaN</td>\n",
       "      <td>NaN</td>\n",
       "      <td>NaN</td>\n",
       "    </tr>\n",
       "  </tbody>\n",
       "</table>\n",
       "</div>"
      ],
      "text/plain": [
       "    Año  Trimestre        Provincia  Accesos por cada 100 hogares  Unnamed: 4  \\\n",
       "0  2022          4     Buenos Aires                         78.94         NaN   \n",
       "1  2022          4  Capital Federal                        122.73         NaN   \n",
       "2  2022          4        Catamarca                         65.77         NaN   \n",
       "3  2022          4            Chaco                         43.62         NaN   \n",
       "4  2022          4           Chubut                         85.57         NaN   \n",
       "\n",
       "   Unnamed: 5  Unnamed: 6  \n",
       "0         NaN         NaN  \n",
       "1         NaN         NaN  \n",
       "2         NaN         NaN  \n",
       "3         NaN         NaN  \n",
       "4         NaN         NaN  "
      ]
     },
     "execution_count": 12,
     "metadata": {},
     "output_type": "execute_result"
    }
   ],
   "source": [
    "# Entonces, re-abrimos el dataset con el parámetro \"decimal=','\" para buscar una solución.\n",
    "# Vemos, ahora el cambio de coma a punto decimal en la columna mencionada.\n",
    "df3 = pd.read_csv('../data/Internet_Penetracion.csv',decimal=',')\n",
    "df3.head()"
   ]
  },
  {
   "cell_type": "code",
   "execution_count": 13,
   "id": "8358e5e4",
   "metadata": {},
   "outputs": [
    {
     "name": "stdout",
     "output_type": "stream",
     "text": [
      "<class 'pandas.core.frame.DataFrame'>\n",
      "RangeIndex: 864 entries, 0 to 863\n",
      "Data columns (total 7 columns):\n",
      " #   Column                        Non-Null Count  Dtype  \n",
      "---  ------                        --------------  -----  \n",
      " 0   Año                           864 non-null    int64  \n",
      " 1   Trimestre                     864 non-null    int64  \n",
      " 2   Provincia                     864 non-null    object \n",
      " 3   Accesos por cada 100 hogares  864 non-null    float64\n",
      " 4   Unnamed: 4                    0 non-null      float64\n",
      " 5   Unnamed: 5                    0 non-null      float64\n",
      " 6   Unnamed: 6                    0 non-null      float64\n",
      "dtypes: float64(4), int64(2), object(1)\n",
      "memory usage: 47.4+ KB\n"
     ]
    }
   ],
   "source": [
    "# Ahora vemos que el tipo de dato de la correspondiente columna es 'float'\n",
    "df3.info()"
   ]
  },
  {
   "cell_type": "code",
   "execution_count": 14,
   "id": "59525494",
   "metadata": {},
   "outputs": [],
   "source": [
    "# Ahora, eliminamos las columnas no definidas y con datos nulos\n",
    "df3 = df3.drop(['Unnamed: 4','Unnamed: 5','Unnamed: 6'],axis=1)"
   ]
  },
  {
   "cell_type": "code",
   "execution_count": 15,
   "id": "0b61cf42",
   "metadata": {},
   "outputs": [
    {
     "data": {
      "text/html": [
       "<div>\n",
       "<style scoped>\n",
       "    .dataframe tbody tr th:only-of-type {\n",
       "        vertical-align: middle;\n",
       "    }\n",
       "\n",
       "    .dataframe tbody tr th {\n",
       "        vertical-align: top;\n",
       "    }\n",
       "\n",
       "    .dataframe thead th {\n",
       "        text-align: right;\n",
       "    }\n",
       "</style>\n",
       "<table border=\"1\" class=\"dataframe\">\n",
       "  <thead>\n",
       "    <tr style=\"text-align: right;\">\n",
       "      <th></th>\n",
       "      <th>Año</th>\n",
       "      <th>Trimestre</th>\n",
       "      <th>Provincia</th>\n",
       "      <th>Accesos por cada 100 hogares</th>\n",
       "    </tr>\n",
       "  </thead>\n",
       "  <tbody>\n",
       "    <tr>\n",
       "      <th>0</th>\n",
       "      <td>2022</td>\n",
       "      <td>4</td>\n",
       "      <td>Buenos Aires</td>\n",
       "      <td>78.94</td>\n",
       "    </tr>\n",
       "    <tr>\n",
       "      <th>1</th>\n",
       "      <td>2022</td>\n",
       "      <td>4</td>\n",
       "      <td>Capital Federal</td>\n",
       "      <td>122.73</td>\n",
       "    </tr>\n",
       "    <tr>\n",
       "      <th>2</th>\n",
       "      <td>2022</td>\n",
       "      <td>4</td>\n",
       "      <td>Catamarca</td>\n",
       "      <td>65.77</td>\n",
       "    </tr>\n",
       "    <tr>\n",
       "      <th>3</th>\n",
       "      <td>2022</td>\n",
       "      <td>4</td>\n",
       "      <td>Chaco</td>\n",
       "      <td>43.62</td>\n",
       "    </tr>\n",
       "    <tr>\n",
       "      <th>4</th>\n",
       "      <td>2022</td>\n",
       "      <td>4</td>\n",
       "      <td>Chubut</td>\n",
       "      <td>85.57</td>\n",
       "    </tr>\n",
       "  </tbody>\n",
       "</table>\n",
       "</div>"
      ],
      "text/plain": [
       "    Año  Trimestre        Provincia  Accesos por cada 100 hogares\n",
       "0  2022          4     Buenos Aires                         78.94\n",
       "1  2022          4  Capital Federal                        122.73\n",
       "2  2022          4        Catamarca                         65.77\n",
       "3  2022          4            Chaco                         43.62\n",
       "4  2022          4           Chubut                         85.57"
      ]
     },
     "execution_count": 15,
     "metadata": {},
     "output_type": "execute_result"
    }
   ],
   "source": [
    "# Verificamos el resultado\n",
    "df3.head()"
   ]
  },
  {
   "cell_type": "code",
   "execution_count": 16,
   "id": "1a41664e",
   "metadata": {},
   "outputs": [],
   "source": [
    "# Enseguida, renombramos la columna 'Accesos por cada 100 hogares'\n",
    "# como 'Accesoactual'\n",
    "df3 = df3.rename(columns={'Accesos por cada 100 hogares':'Accesoactual'})"
   ]
  },
  {
   "cell_type": "code",
   "execution_count": 17,
   "id": "7d8bd591",
   "metadata": {},
   "outputs": [
    {
     "data": {
      "text/html": [
       "<div>\n",
       "<style scoped>\n",
       "    .dataframe tbody tr th:only-of-type {\n",
       "        vertical-align: middle;\n",
       "    }\n",
       "\n",
       "    .dataframe tbody tr th {\n",
       "        vertical-align: top;\n",
       "    }\n",
       "\n",
       "    .dataframe thead th {\n",
       "        text-align: right;\n",
       "    }\n",
       "</style>\n",
       "<table border=\"1\" class=\"dataframe\">\n",
       "  <thead>\n",
       "    <tr style=\"text-align: right;\">\n",
       "      <th></th>\n",
       "      <th>Año</th>\n",
       "      <th>Trimestre</th>\n",
       "      <th>Provincia</th>\n",
       "      <th>Accesoactual</th>\n",
       "    </tr>\n",
       "  </thead>\n",
       "  <tbody>\n",
       "    <tr>\n",
       "      <th>0</th>\n",
       "      <td>2022</td>\n",
       "      <td>4</td>\n",
       "      <td>Buenos Aires</td>\n",
       "      <td>78.94</td>\n",
       "    </tr>\n",
       "    <tr>\n",
       "      <th>1</th>\n",
       "      <td>2022</td>\n",
       "      <td>4</td>\n",
       "      <td>Capital Federal</td>\n",
       "      <td>122.73</td>\n",
       "    </tr>\n",
       "    <tr>\n",
       "      <th>2</th>\n",
       "      <td>2022</td>\n",
       "      <td>4</td>\n",
       "      <td>Catamarca</td>\n",
       "      <td>65.77</td>\n",
       "    </tr>\n",
       "    <tr>\n",
       "      <th>3</th>\n",
       "      <td>2022</td>\n",
       "      <td>4</td>\n",
       "      <td>Chaco</td>\n",
       "      <td>43.62</td>\n",
       "    </tr>\n",
       "    <tr>\n",
       "      <th>4</th>\n",
       "      <td>2022</td>\n",
       "      <td>4</td>\n",
       "      <td>Chubut</td>\n",
       "      <td>85.57</td>\n",
       "    </tr>\n",
       "  </tbody>\n",
       "</table>\n",
       "</div>"
      ],
      "text/plain": [
       "    Año  Trimestre        Provincia  Accesoactual\n",
       "0  2022          4     Buenos Aires         78.94\n",
       "1  2022          4  Capital Federal        122.73\n",
       "2  2022          4        Catamarca         65.77\n",
       "3  2022          4            Chaco         43.62\n",
       "4  2022          4           Chubut         85.57"
      ]
     },
     "execution_count": 17,
     "metadata": {},
     "output_type": "execute_result"
    }
   ],
   "source": [
    "# Verificando el resultado\n",
    "df3.head()"
   ]
  },
  {
   "cell_type": "code",
   "execution_count": 18,
   "id": "c5913b16",
   "metadata": {},
   "outputs": [
    {
     "name": "stdout",
     "output_type": "stream",
     "text": [
      "<class 'pandas.core.frame.DataFrame'>\n",
      "RangeIndex: 864 entries, 0 to 863\n",
      "Data columns (total 4 columns):\n",
      " #   Column        Non-Null Count  Dtype  \n",
      "---  ------        --------------  -----  \n",
      " 0   Año           864 non-null    int64  \n",
      " 1   Trimestre     864 non-null    int64  \n",
      " 2   Provincia     864 non-null    object \n",
      " 3   Accesoactual  864 non-null    float64\n",
      "dtypes: float64(1), int64(2), object(1)\n",
      "memory usage: 27.1+ KB\n"
     ]
    }
   ],
   "source": [
    "# Checamos registros, columnas y tipo de dato\n",
    "df3.info()"
   ]
  },
  {
   "cell_type": "code",
   "execution_count": 19,
   "id": "af5521d0",
   "metadata": {},
   "outputs": [],
   "source": [
    "# Salvamos el dataset como\n",
    "#df3.to_csv('Penetracion_internet.csv',index=False)"
   ]
  },
  {
   "cell_type": "markdown",
   "id": "7553afb2",
   "metadata": {},
   "source": [
    "#### Resumen: `Penetracion del internet`\n",
    "* Limpiamos el dataset reduciendo a `4 columnas y 864 registros.`\n",
    "* Salvamos el dataset como `Penetracion_internet.csv`\n",
    "* Lo reservamos para usar en `PowerBI`\n",
    "* Lo fusionaremos más adelante para trabajar el `EDA`"
   ]
  },
  {
   "cell_type": "markdown",
   "id": "a54cc5c7",
   "metadata": {},
   "source": [
    "#### `Telefonía fija`"
   ]
  },
  {
   "cell_type": "code",
   "execution_count": 20,
   "id": "2ad080ab",
   "metadata": {},
   "outputs": [
    {
     "data": {
      "text/html": [
       "<div>\n",
       "<style scoped>\n",
       "    .dataframe tbody tr th:only-of-type {\n",
       "        vertical-align: middle;\n",
       "    }\n",
       "\n",
       "    .dataframe tbody tr th {\n",
       "        vertical-align: top;\n",
       "    }\n",
       "\n",
       "    .dataframe thead th {\n",
       "        text-align: right;\n",
       "    }\n",
       "</style>\n",
       "<table border=\"1\" class=\"dataframe\">\n",
       "  <thead>\n",
       "    <tr style=\"text-align: right;\">\n",
       "      <th></th>\n",
       "      <th>Año</th>\n",
       "      <th>Trimestre</th>\n",
       "      <th>Provincia</th>\n",
       "      <th>Accesos telefonía fija por cada 100 hab</th>\n",
       "      <th>Accesos telefonía fija por cada 100 hogares</th>\n",
       "    </tr>\n",
       "  </thead>\n",
       "  <tbody>\n",
       "    <tr>\n",
       "      <th>0</th>\n",
       "      <td>2014</td>\n",
       "      <td>1</td>\n",
       "      <td>Buenos Aires</td>\n",
       "      <td>2.672</td>\n",
       "      <td>8.526</td>\n",
       "    </tr>\n",
       "    <tr>\n",
       "      <th>1</th>\n",
       "      <td>2014</td>\n",
       "      <td>1</td>\n",
       "      <td>Capital Federal</td>\n",
       "      <td>5.266</td>\n",
       "      <td>12.857</td>\n",
       "    </tr>\n",
       "    <tr>\n",
       "      <th>2</th>\n",
       "      <td>2014</td>\n",
       "      <td>1</td>\n",
       "      <td>Catamarca</td>\n",
       "      <td>1.003</td>\n",
       "      <td>3.945</td>\n",
       "    </tr>\n",
       "    <tr>\n",
       "      <th>3</th>\n",
       "      <td>2014</td>\n",
       "      <td>1</td>\n",
       "      <td>Chaco</td>\n",
       "      <td>909.000</td>\n",
       "      <td>3.402</td>\n",
       "    </tr>\n",
       "    <tr>\n",
       "      <th>4</th>\n",
       "      <td>2014</td>\n",
       "      <td>1</td>\n",
       "      <td>Chubut</td>\n",
       "      <td>1.766</td>\n",
       "      <td>5.759</td>\n",
       "    </tr>\n",
       "  </tbody>\n",
       "</table>\n",
       "</div>"
      ],
      "text/plain": [
       "    Año  Trimestre        Provincia  Accesos telefonía fija por cada 100 hab  \\\n",
       "0  2014          1     Buenos Aires                                    2.672   \n",
       "1  2014          1  Capital Federal                                    5.266   \n",
       "2  2014          1        Catamarca                                    1.003   \n",
       "3  2014          1            Chaco                                  909.000   \n",
       "4  2014          1           Chubut                                    1.766   \n",
       "\n",
       "   Accesos telefonía fija por cada 100 hogares  \n",
       "0                                        8.526  \n",
       "1                                       12.857  \n",
       "2                                        3.945  \n",
       "3                                        3.402  \n",
       "4                                        5.759  "
      ]
     },
     "execution_count": 20,
     "metadata": {},
     "output_type": "execute_result"
    }
   ],
   "source": [
    "df4 = pd.read_csv('../data/telefonia_fija.csv')\n",
    "df4.head()"
   ]
  },
  {
   "cell_type": "code",
   "execution_count": 21,
   "id": "2ce91d0d",
   "metadata": {},
   "outputs": [],
   "source": [
    "# Eliminamos la columna 'Accesos telefonía fija por cada 100 hab'\n",
    "df4 = df4.drop(['Accesos telefonía fija por cada 100 hab'],axis=1)"
   ]
  },
  {
   "cell_type": "code",
   "execution_count": 22,
   "id": "ddb3f946",
   "metadata": {},
   "outputs": [
    {
     "data": {
      "text/html": [
       "<div>\n",
       "<style scoped>\n",
       "    .dataframe tbody tr th:only-of-type {\n",
       "        vertical-align: middle;\n",
       "    }\n",
       "\n",
       "    .dataframe tbody tr th {\n",
       "        vertical-align: top;\n",
       "    }\n",
       "\n",
       "    .dataframe thead th {\n",
       "        text-align: right;\n",
       "    }\n",
       "</style>\n",
       "<table border=\"1\" class=\"dataframe\">\n",
       "  <thead>\n",
       "    <tr style=\"text-align: right;\">\n",
       "      <th></th>\n",
       "      <th>Año</th>\n",
       "      <th>Trimestre</th>\n",
       "      <th>Provincia</th>\n",
       "      <th>Accesos telefonía fija por cada 100 hogares</th>\n",
       "    </tr>\n",
       "  </thead>\n",
       "  <tbody>\n",
       "    <tr>\n",
       "      <th>0</th>\n",
       "      <td>2014</td>\n",
       "      <td>1</td>\n",
       "      <td>Buenos Aires</td>\n",
       "      <td>8.526</td>\n",
       "    </tr>\n",
       "    <tr>\n",
       "      <th>1</th>\n",
       "      <td>2014</td>\n",
       "      <td>1</td>\n",
       "      <td>Capital Federal</td>\n",
       "      <td>12.857</td>\n",
       "    </tr>\n",
       "    <tr>\n",
       "      <th>2</th>\n",
       "      <td>2014</td>\n",
       "      <td>1</td>\n",
       "      <td>Catamarca</td>\n",
       "      <td>3.945</td>\n",
       "    </tr>\n",
       "    <tr>\n",
       "      <th>3</th>\n",
       "      <td>2014</td>\n",
       "      <td>1</td>\n",
       "      <td>Chaco</td>\n",
       "      <td>3.402</td>\n",
       "    </tr>\n",
       "    <tr>\n",
       "      <th>4</th>\n",
       "      <td>2014</td>\n",
       "      <td>1</td>\n",
       "      <td>Chubut</td>\n",
       "      <td>5.759</td>\n",
       "    </tr>\n",
       "  </tbody>\n",
       "</table>\n",
       "</div>"
      ],
      "text/plain": [
       "    Año  Trimestre        Provincia  \\\n",
       "0  2014          1     Buenos Aires   \n",
       "1  2014          1  Capital Federal   \n",
       "2  2014          1        Catamarca   \n",
       "3  2014          1            Chaco   \n",
       "4  2014          1           Chubut   \n",
       "\n",
       "   Accesos telefonía fija por cada 100 hogares  \n",
       "0                                        8.526  \n",
       "1                                       12.857  \n",
       "2                                        3.945  \n",
       "3                                        3.402  \n",
       "4                                        5.759  "
      ]
     },
     "execution_count": 22,
     "metadata": {},
     "output_type": "execute_result"
    }
   ],
   "source": [
    "# Verificamos el resultado\n",
    "df4.head()"
   ]
  },
  {
   "cell_type": "code",
   "execution_count": 23,
   "id": "04d27bb7",
   "metadata": {},
   "outputs": [],
   "source": [
    "# Enseguida, renombramos la columna 'Accesos por cada 100 hogares'\n",
    "# como 'Accesoactual'\n",
    "df4 = df4.rename(columns={'Accesos telefonía fija por cada 100 hogares':'AccesoactualTel'})"
   ]
  },
  {
   "cell_type": "code",
   "execution_count": 24,
   "id": "c57487c5",
   "metadata": {},
   "outputs": [
    {
     "data": {
      "text/html": [
       "<div>\n",
       "<style scoped>\n",
       "    .dataframe tbody tr th:only-of-type {\n",
       "        vertical-align: middle;\n",
       "    }\n",
       "\n",
       "    .dataframe tbody tr th {\n",
       "        vertical-align: top;\n",
       "    }\n",
       "\n",
       "    .dataframe thead th {\n",
       "        text-align: right;\n",
       "    }\n",
       "</style>\n",
       "<table border=\"1\" class=\"dataframe\">\n",
       "  <thead>\n",
       "    <tr style=\"text-align: right;\">\n",
       "      <th></th>\n",
       "      <th>Año</th>\n",
       "      <th>Trimestre</th>\n",
       "      <th>Provincia</th>\n",
       "      <th>AccesoactualTel</th>\n",
       "    </tr>\n",
       "  </thead>\n",
       "  <tbody>\n",
       "    <tr>\n",
       "      <th>0</th>\n",
       "      <td>2014</td>\n",
       "      <td>1</td>\n",
       "      <td>Buenos Aires</td>\n",
       "      <td>8.526</td>\n",
       "    </tr>\n",
       "    <tr>\n",
       "      <th>1</th>\n",
       "      <td>2014</td>\n",
       "      <td>1</td>\n",
       "      <td>Capital Federal</td>\n",
       "      <td>12.857</td>\n",
       "    </tr>\n",
       "    <tr>\n",
       "      <th>2</th>\n",
       "      <td>2014</td>\n",
       "      <td>1</td>\n",
       "      <td>Catamarca</td>\n",
       "      <td>3.945</td>\n",
       "    </tr>\n",
       "    <tr>\n",
       "      <th>3</th>\n",
       "      <td>2014</td>\n",
       "      <td>1</td>\n",
       "      <td>Chaco</td>\n",
       "      <td>3.402</td>\n",
       "    </tr>\n",
       "    <tr>\n",
       "      <th>4</th>\n",
       "      <td>2014</td>\n",
       "      <td>1</td>\n",
       "      <td>Chubut</td>\n",
       "      <td>5.759</td>\n",
       "    </tr>\n",
       "  </tbody>\n",
       "</table>\n",
       "</div>"
      ],
      "text/plain": [
       "    Año  Trimestre        Provincia  AccesoactualTel\n",
       "0  2014          1     Buenos Aires            8.526\n",
       "1  2014          1  Capital Federal           12.857\n",
       "2  2014          1        Catamarca            3.945\n",
       "3  2014          1            Chaco            3.402\n",
       "4  2014          1           Chubut            5.759"
      ]
     },
     "execution_count": 24,
     "metadata": {},
     "output_type": "execute_result"
    }
   ],
   "source": [
    "# Checamos resultados\n",
    "df4.head()"
   ]
  },
  {
   "cell_type": "code",
   "execution_count": 25,
   "id": "e2bfa977",
   "metadata": {},
   "outputs": [
    {
     "name": "stdout",
     "output_type": "stream",
     "text": [
      "<class 'pandas.core.frame.DataFrame'>\n",
      "RangeIndex: 864 entries, 0 to 863\n",
      "Data columns (total 4 columns):\n",
      " #   Column           Non-Null Count  Dtype  \n",
      "---  ------           --------------  -----  \n",
      " 0   Año              864 non-null    int64  \n",
      " 1   Trimestre        864 non-null    int64  \n",
      " 2   Provincia        864 non-null    object \n",
      " 3   AccesoactualTel  864 non-null    float64\n",
      "dtypes: float64(1), int64(2), object(1)\n",
      "memory usage: 27.1+ KB\n"
     ]
    }
   ],
   "source": [
    "# Verificamos registros, columnas y tipo de datos.\n",
    "df4.info()"
   ]
  },
  {
   "cell_type": "code",
   "execution_count": 26,
   "id": "cb086001",
   "metadata": {},
   "outputs": [],
   "source": [
    "# Salvamos el dataset como 'Telefonia_Fija.csv'\n",
    "#df4.to_csv('Telefonia_Fija.csv',index=False)"
   ]
  },
  {
   "cell_type": "markdown",
   "id": "e00642cd",
   "metadata": {},
   "source": [
    "#### Resumen: `Telefonía fija`\n",
    "* Limpiamos el dataset reduciendo a `4 columnas y 864 registros.`\n",
    "* Salvamos el dataset como `Telefonia_Fija.csv`\n",
    "* Lo reservamos para usar en `PowerBI`\n",
    "* Lo fusionaremos más adelante para trabajar el `EDA`"
   ]
  },
  {
   "cell_type": "markdown",
   "id": "988acaf5",
   "metadata": {},
   "source": [
    "## `Abrimos los archivos creados`"
   ]
  },
  {
   "cell_type": "code",
   "execution_count": 27,
   "id": "63d52704",
   "metadata": {},
   "outputs": [],
   "source": [
    "df1 = pd.read_csv('./dataset/Ingresos.csv')\n",
    "df2 = pd.read_csv('./dataset/Tecnologia.csv')\n",
    "df3 = pd.read_csv('./dataset/Penetracion_internet.csv')\n",
    "df4 = pd.read_csv('./dataset/Telefonia_Fija.csv')"
   ]
  },
  {
   "cell_type": "markdown",
   "id": "b0fae43f",
   "metadata": {},
   "source": [
    "### *`Obtenemos el dataset df`*: Producto de la fusión df1 y df2 "
   ]
  },
  {
   "cell_type": "code",
   "execution_count": 28,
   "id": "8b090670",
   "metadata": {},
   "outputs": [
    {
     "data": {
      "text/html": [
       "<div>\n",
       "<style scoped>\n",
       "    .dataframe tbody tr th:only-of-type {\n",
       "        vertical-align: middle;\n",
       "    }\n",
       "\n",
       "    .dataframe tbody tr th {\n",
       "        vertical-align: top;\n",
       "    }\n",
       "\n",
       "    .dataframe thead th {\n",
       "        text-align: right;\n",
       "    }\n",
       "</style>\n",
       "<table border=\"1\" class=\"dataframe\">\n",
       "  <thead>\n",
       "    <tr style=\"text-align: right;\">\n",
       "      <th></th>\n",
       "      <th>Año</th>\n",
       "      <th>Trimestre</th>\n",
       "      <th>Ingresos (miles de pesos)</th>\n",
       "      <th>Periodo</th>\n",
       "    </tr>\n",
       "  </thead>\n",
       "  <tbody>\n",
       "    <tr>\n",
       "      <th>0</th>\n",
       "      <td>2022</td>\n",
       "      <td>4</td>\n",
       "      <td>72</td>\n",
       "      <td>Oct-Dic 2022</td>\n",
       "    </tr>\n",
       "    <tr>\n",
       "      <th>1</th>\n",
       "      <td>2022</td>\n",
       "      <td>3</td>\n",
       "      <td>64</td>\n",
       "      <td>Jul-Sept 2022</td>\n",
       "    </tr>\n",
       "  </tbody>\n",
       "</table>\n",
       "</div>"
      ],
      "text/plain": [
       "    Año  Trimestre  Ingresos (miles de pesos)        Periodo\n",
       "0  2022          4                         72   Oct-Dic 2022\n",
       "1  2022          3                         64  Jul-Sept 2022"
      ]
     },
     "execution_count": 28,
     "metadata": {},
     "output_type": "execute_result"
    }
   ],
   "source": [
    "# Abrimos el dataset de ingresos del internet\n",
    "df1.head(2)"
   ]
  },
  {
   "cell_type": "code",
   "execution_count": 29,
   "id": "763a41f9",
   "metadata": {},
   "outputs": [
    {
     "data": {
      "text/plain": [
       "(36, 4)"
      ]
     },
     "execution_count": 29,
     "metadata": {},
     "output_type": "execute_result"
    }
   ],
   "source": [
    "df1.shape"
   ]
  },
  {
   "cell_type": "code",
   "execution_count": 30,
   "id": "d9f28b67",
   "metadata": {},
   "outputs": [
    {
     "data": {
      "text/html": [
       "<div>\n",
       "<style scoped>\n",
       "    .dataframe tbody tr th:only-of-type {\n",
       "        vertical-align: middle;\n",
       "    }\n",
       "\n",
       "    .dataframe tbody tr th {\n",
       "        vertical-align: top;\n",
       "    }\n",
       "\n",
       "    .dataframe thead th {\n",
       "        text-align: right;\n",
       "    }\n",
       "</style>\n",
       "<table border=\"1\" class=\"dataframe\">\n",
       "  <thead>\n",
       "    <tr style=\"text-align: right;\">\n",
       "      <th></th>\n",
       "      <th>Año</th>\n",
       "      <th>Trimestre</th>\n",
       "      <th>ADSL</th>\n",
       "      <th>Cablemodem</th>\n",
       "      <th>Fibra óptica</th>\n",
       "      <th>Wireless</th>\n",
       "      <th>Periodo</th>\n",
       "    </tr>\n",
       "  </thead>\n",
       "  <tbody>\n",
       "    <tr>\n",
       "      <th>0</th>\n",
       "      <td>2022</td>\n",
       "      <td>4</td>\n",
       "      <td>1</td>\n",
       "      <td>6</td>\n",
       "      <td>3</td>\n",
       "      <td>573</td>\n",
       "      <td>Oct-Dic 2022</td>\n",
       "    </tr>\n",
       "    <tr>\n",
       "      <th>1</th>\n",
       "      <td>2022</td>\n",
       "      <td>3</td>\n",
       "      <td>1</td>\n",
       "      <td>6</td>\n",
       "      <td>3</td>\n",
       "      <td>557</td>\n",
       "      <td>Jul-Sept 2022</td>\n",
       "    </tr>\n",
       "  </tbody>\n",
       "</table>\n",
       "</div>"
      ],
      "text/plain": [
       "    Año  Trimestre  ADSL  Cablemodem  Fibra óptica  Wireless        Periodo\n",
       "0  2022          4     1           6             3       573   Oct-Dic 2022\n",
       "1  2022          3     1           6             3       557  Jul-Sept 2022"
      ]
     },
     "execution_count": 30,
     "metadata": {},
     "output_type": "execute_result"
    }
   ],
   "source": [
    "# Abrimos el dataset de tecnología del internet\n",
    "df2.head(2)"
   ]
  },
  {
   "cell_type": "code",
   "execution_count": 31,
   "id": "a3cb53f4",
   "metadata": {},
   "outputs": [
    {
     "data": {
      "text/plain": [
       "(36, 7)"
      ]
     },
     "execution_count": 31,
     "metadata": {},
     "output_type": "execute_result"
    }
   ],
   "source": [
    "df2.shape"
   ]
  },
  {
   "cell_type": "code",
   "execution_count": 32,
   "id": "90fb2ec7",
   "metadata": {},
   "outputs": [],
   "source": [
    "# Fusionamos los archivos anteriores\n",
    "df = pd.merge(df2,df1, on=['Año','Trimestre','Periodo'])"
   ]
  },
  {
   "cell_type": "code",
   "execution_count": 33,
   "id": "9e75b508",
   "metadata": {},
   "outputs": [
    {
     "data": {
      "text/html": [
       "<div>\n",
       "<style scoped>\n",
       "    .dataframe tbody tr th:only-of-type {\n",
       "        vertical-align: middle;\n",
       "    }\n",
       "\n",
       "    .dataframe tbody tr th {\n",
       "        vertical-align: top;\n",
       "    }\n",
       "\n",
       "    .dataframe thead th {\n",
       "        text-align: right;\n",
       "    }\n",
       "</style>\n",
       "<table border=\"1\" class=\"dataframe\">\n",
       "  <thead>\n",
       "    <tr style=\"text-align: right;\">\n",
       "      <th></th>\n",
       "      <th>Año</th>\n",
       "      <th>Trimestre</th>\n",
       "      <th>ADSL</th>\n",
       "      <th>Cablemodem</th>\n",
       "      <th>Fibra óptica</th>\n",
       "      <th>Wireless</th>\n",
       "      <th>Periodo</th>\n",
       "      <th>Ingresos (miles de pesos)</th>\n",
       "    </tr>\n",
       "  </thead>\n",
       "  <tbody>\n",
       "    <tr>\n",
       "      <th>0</th>\n",
       "      <td>2022</td>\n",
       "      <td>4</td>\n",
       "      <td>1</td>\n",
       "      <td>6</td>\n",
       "      <td>3</td>\n",
       "      <td>573</td>\n",
       "      <td>Oct-Dic 2022</td>\n",
       "      <td>72</td>\n",
       "    </tr>\n",
       "    <tr>\n",
       "      <th>1</th>\n",
       "      <td>2022</td>\n",
       "      <td>3</td>\n",
       "      <td>1</td>\n",
       "      <td>6</td>\n",
       "      <td>3</td>\n",
       "      <td>557</td>\n",
       "      <td>Jul-Sept 2022</td>\n",
       "      <td>64</td>\n",
       "    </tr>\n",
       "  </tbody>\n",
       "</table>\n",
       "</div>"
      ],
      "text/plain": [
       "    Año  Trimestre  ADSL  Cablemodem  Fibra óptica  Wireless        Periodo  \\\n",
       "0  2022          4     1           6             3       573   Oct-Dic 2022   \n",
       "1  2022          3     1           6             3       557  Jul-Sept 2022   \n",
       "\n",
       "   Ingresos (miles de pesos)  \n",
       "0                         72  \n",
       "1                         64  "
      ]
     },
     "execution_count": 33,
     "metadata": {},
     "output_type": "execute_result"
    }
   ],
   "source": [
    "# Verificamos el resultado\n",
    "df.head(2)"
   ]
  },
  {
   "cell_type": "markdown",
   "id": "cdfc1485",
   "metadata": {},
   "source": [
    "### *`Obtenemos el dataset df_`*: Producto de la fusión df3 y df "
   ]
  },
  {
   "cell_type": "code",
   "execution_count": 34,
   "id": "c57274dd",
   "metadata": {},
   "outputs": [
    {
     "data": {
      "text/html": [
       "<div>\n",
       "<style scoped>\n",
       "    .dataframe tbody tr th:only-of-type {\n",
       "        vertical-align: middle;\n",
       "    }\n",
       "\n",
       "    .dataframe tbody tr th {\n",
       "        vertical-align: top;\n",
       "    }\n",
       "\n",
       "    .dataframe thead th {\n",
       "        text-align: right;\n",
       "    }\n",
       "</style>\n",
       "<table border=\"1\" class=\"dataframe\">\n",
       "  <thead>\n",
       "    <tr style=\"text-align: right;\">\n",
       "      <th></th>\n",
       "      <th>Año</th>\n",
       "      <th>Trimestre</th>\n",
       "      <th>Provincia</th>\n",
       "      <th>Accesoactual</th>\n",
       "    </tr>\n",
       "  </thead>\n",
       "  <tbody>\n",
       "    <tr>\n",
       "      <th>0</th>\n",
       "      <td>2022</td>\n",
       "      <td>4</td>\n",
       "      <td>Buenos Aires</td>\n",
       "      <td>78.94</td>\n",
       "    </tr>\n",
       "    <tr>\n",
       "      <th>1</th>\n",
       "      <td>2022</td>\n",
       "      <td>4</td>\n",
       "      <td>Capital Federal</td>\n",
       "      <td>122.73</td>\n",
       "    </tr>\n",
       "  </tbody>\n",
       "</table>\n",
       "</div>"
      ],
      "text/plain": [
       "    Año  Trimestre        Provincia  Accesoactual\n",
       "0  2022          4     Buenos Aires         78.94\n",
       "1  2022          4  Capital Federal        122.73"
      ]
     },
     "execution_count": 34,
     "metadata": {},
     "output_type": "execute_result"
    }
   ],
   "source": [
    "# Abrimos el dataset de penetracion del internet\n",
    "df3.head(2)"
   ]
  },
  {
   "cell_type": "code",
   "execution_count": 35,
   "id": "75ef4189",
   "metadata": {},
   "outputs": [
    {
     "data": {
      "text/plain": [
       "(864, 4)"
      ]
     },
     "execution_count": 35,
     "metadata": {},
     "output_type": "execute_result"
    }
   ],
   "source": [
    "df3.shape"
   ]
  },
  {
   "cell_type": "code",
   "execution_count": 36,
   "id": "be0e3380",
   "metadata": {},
   "outputs": [],
   "source": [
    "# Fusionamos los archivos anteriores\n",
    "df_ = pd.merge(df3,df,on=['Año','Trimestre'])"
   ]
  },
  {
   "cell_type": "code",
   "execution_count": 37,
   "id": "0e0a2107",
   "metadata": {},
   "outputs": [
    {
     "data": {
      "text/html": [
       "<div>\n",
       "<style scoped>\n",
       "    .dataframe tbody tr th:only-of-type {\n",
       "        vertical-align: middle;\n",
       "    }\n",
       "\n",
       "    .dataframe tbody tr th {\n",
       "        vertical-align: top;\n",
       "    }\n",
       "\n",
       "    .dataframe thead th {\n",
       "        text-align: right;\n",
       "    }\n",
       "</style>\n",
       "<table border=\"1\" class=\"dataframe\">\n",
       "  <thead>\n",
       "    <tr style=\"text-align: right;\">\n",
       "      <th></th>\n",
       "      <th>Año</th>\n",
       "      <th>Trimestre</th>\n",
       "      <th>Provincia</th>\n",
       "      <th>Accesoactual</th>\n",
       "      <th>ADSL</th>\n",
       "      <th>Cablemodem</th>\n",
       "      <th>Fibra óptica</th>\n",
       "      <th>Wireless</th>\n",
       "      <th>Periodo</th>\n",
       "      <th>Ingresos (miles de pesos)</th>\n",
       "    </tr>\n",
       "  </thead>\n",
       "  <tbody>\n",
       "    <tr>\n",
       "      <th>0</th>\n",
       "      <td>2022</td>\n",
       "      <td>4</td>\n",
       "      <td>Buenos Aires</td>\n",
       "      <td>78.94</td>\n",
       "      <td>1</td>\n",
       "      <td>6</td>\n",
       "      <td>3</td>\n",
       "      <td>573</td>\n",
       "      <td>Oct-Dic 2022</td>\n",
       "      <td>72</td>\n",
       "    </tr>\n",
       "    <tr>\n",
       "      <th>1</th>\n",
       "      <td>2022</td>\n",
       "      <td>4</td>\n",
       "      <td>Capital Federal</td>\n",
       "      <td>122.73</td>\n",
       "      <td>1</td>\n",
       "      <td>6</td>\n",
       "      <td>3</td>\n",
       "      <td>573</td>\n",
       "      <td>Oct-Dic 2022</td>\n",
       "      <td>72</td>\n",
       "    </tr>\n",
       "  </tbody>\n",
       "</table>\n",
       "</div>"
      ],
      "text/plain": [
       "    Año  Trimestre        Provincia  Accesoactual  ADSL  Cablemodem  \\\n",
       "0  2022          4     Buenos Aires         78.94     1           6   \n",
       "1  2022          4  Capital Federal        122.73     1           6   \n",
       "\n",
       "   Fibra óptica  Wireless       Periodo  Ingresos (miles de pesos)  \n",
       "0             3       573  Oct-Dic 2022                         72  \n",
       "1             3       573  Oct-Dic 2022                         72  "
      ]
     },
     "execution_count": 37,
     "metadata": {},
     "output_type": "execute_result"
    }
   ],
   "source": [
    "# Verificamos el resultado\n",
    "df_.head(2)"
   ]
  },
  {
   "cell_type": "code",
   "execution_count": 38,
   "id": "9c323eed",
   "metadata": {},
   "outputs": [
    {
     "data": {
      "text/plain": [
       "(864, 10)"
      ]
     },
     "execution_count": 38,
     "metadata": {},
     "output_type": "execute_result"
    }
   ],
   "source": [
    "df_.shape"
   ]
  },
  {
   "cell_type": "code",
   "execution_count": 39,
   "id": "4d6dba94",
   "metadata": {},
   "outputs": [],
   "source": [
    "# Salvamos como 'Internet.csv'\n",
    "#df_.to_csv('Internet.csv',index=False)"
   ]
  },
  {
   "cell_type": "markdown",
   "id": "39f15821",
   "metadata": {},
   "source": [
    "#### *`Obtenemos el dataset Internet.csv, desde`*:\n",
    "* `Ingresos.csv`\n",
    "* `Tecnologia.csv`\n",
    "* `Penetracion_internet.csv`"
   ]
  },
  {
   "cell_type": "markdown",
   "id": "f4c43113",
   "metadata": {},
   "source": [
    "#### *`Los siguientes archivos los reservamos para el EDA`*:\n",
    "- **`Internet.csv`**\n",
    "- **`Telefonia_Fija.csv`**"
   ]
  },
  {
   "cell_type": "markdown",
   "id": "18de715c",
   "metadata": {},
   "source": [
    "#### *`Los siguientes archivos los reservamos para los KPI's`*:\n",
    "- **`Penetracion_internet.csv`**\n",
    "- **`Telefonia_Fija.csv`**"
   ]
  },
  {
   "cell_type": "markdown",
   "id": "50c4d89b",
   "metadata": {},
   "source": [
    "\n",
    "<h4 align='right'><i>Pag. 1</i></h4>"
   ]
  }
 ],
 "metadata": {
  "kernelspec": {
   "display_name": "Python 3 (ipykernel)",
   "language": "python",
   "name": "python3"
  },
  "language_info": {
   "codemirror_mode": {
    "name": "ipython",
    "version": 3
   },
   "file_extension": ".py",
   "mimetype": "text/x-python",
   "name": "python",
   "nbconvert_exporter": "python",
   "pygments_lexer": "ipython3",
   "version": "3.11.3"
  }
 },
 "nbformat": 4,
 "nbformat_minor": 5
}
